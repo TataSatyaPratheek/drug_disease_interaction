{
  "cells": [
    {
      "cell_type": "markdown",
      "metadata": {},
      "source": [
        "# Graph Analysis for Drug-Disease Interaction Prediction\n",
        "\n",
        "This notebook demonstrates the use of graph analysis techniques on the knowledge graph built from biomedical data sources. We'll explore the graph structure, calculate centrality measures, find important paths between drugs and diseases, and visualize the results."
      ]
    },
    {
      "cell_type": "markdown",
      "metadata": {},
      "source": [
        "## Setup\n",
        "\n",
        "First, let's import the necessary libraries and load the knowledge graph."
      ]
    },
    {
      "cell_type": "code",
      "execution_count": 1,
      "metadata": {},
      "outputs": [],
      "source": [
        "import os\n",
        "import sys\n",
        "import pickle\n",
        "import networkx as nx\n",
        "import pandas as pd\n",
        "import numpy as np\n",
        "import matplotlib.pyplot as plt\n",
        "import seaborn as sns\n",
        "from pathlib import Path\n",
        "\n",
        "# Ensure we can import from src\n",
        "sys.path.append(str(Path.cwd().parent))\n",
        "\n",
        "# Import our modules\n",
        "from src.ddi.analysis.graph_analysis import GraphAnalyzer\n",
        "from src.ddi.visualization.graph_viz import GraphVisualizer\n",
        "\n",
        "# Set up plotting defaults\n",
        "sns.set_style(\"whitegrid\")\n",
        "plt.rcParams[\"figure.figsize\"] = (12, 8)\n",
        "%matplotlib inline"
      ]
    },
    {
      "cell_type": "markdown",
      "metadata": {},
      "source": [
        "### Load the Knowledge Graph\n",
        "\n",
        "We'll load the knowledge graph that we built in the previous steps."
      ]
    },
    {
      "cell_type": "code",
      "execution_count": 2,
      "metadata": {},
      "outputs": [
        {
          "name": "stdout",
          "output_type": "stream",
          "text": [
            "Loaded knowledge graph with 17430 nodes and 0 edges\n"
          ]
        }
      ],
      "source": [
        "# Path to the saved graph file\n",
        "graph_path = \"../data/graph/full/knowledge_graph.pickle\"\n",
        "\n",
        "# Load the graph\n",
        "with open(graph_path, \"rb\") as f:\n",
        "    graph = pickle.load(f)\n",
        "\n",
        "print(f\"Loaded knowledge graph with {graph.number_of_nodes()} nodes and {graph.number_of_edges()} edges\")\n",
        "\n",
        "# Create analyzer and visualizer\n",
        "analyzer = GraphAnalyzer(graph)\n",
        "visualizer = GraphVisualizer(output_dir=\"../figures\")"
      ]
    },
    {
      "cell_type": "markdown",
      "metadata": {},
      "source": [
        "## 1. Basic Graph Statistics\n",
        "\n",
        "Let's start by examining the basic statistics of our knowledge graph."
      ]
    },
    {
      "cell_type": "code",
      "execution_count": 3,
      "metadata": {},
      "outputs": [
        {
          "name": "stdout",
          "output_type": "stream",
          "text": [
            "Number of nodes: 17430\n",
            "Number of edges: 0\n",
            "Graph density: 0.000000\n",
            "Connected components: 17430\n",
            "Largest component size: 1 nodes (0.01% of total)\n",
            "\n",
            "Degree statistics:\n",
            "  min: 0.00\n",
            "  max: 0.00\n",
            "  mean: 0.00\n",
            "  median: 0.00\n",
            "\n",
            "Node types:\n"
          ]
        },
        {
          "data": {
            "application/vnd.microsoft.datawrangler.viewer.v0+json": {
              "columns": [
                {
                  "name": "index",
                  "rawType": "int64",
                  "type": "integer"
                },
                {
                  "name": "Node Type",
                  "rawType": "object",
                  "type": "string"
                },
                {
                  "name": "Count",
                  "rawType": "int64",
                  "type": "integer"
                }
              ],
              "conversionMethod": "pd.DataFrame",
              "ref": "6e9b98da-3b33-47c7-9a90-d3fbd33d1745",
              "rows": [
                [
                  "0",
                  "drug",
                  "17430"
                ]
              ],
              "shape": {
                "columns": 2,
                "rows": 1
              }
            },
            "text/html": [
              "<div>\n",
              "<style scoped>\n",
              "    .dataframe tbody tr th:only-of-type {\n",
              "        vertical-align: middle;\n",
              "    }\n",
              "\n",
              "    .dataframe tbody tr th {\n",
              "        vertical-align: top;\n",
              "    }\n",
              "\n",
              "    .dataframe thead th {\n",
              "        text-align: right;\n",
              "    }\n",
              "</style>\n",
              "<table border=\"1\" class=\"dataframe\">\n",
              "  <thead>\n",
              "    <tr style=\"text-align: right;\">\n",
              "      <th></th>\n",
              "      <th>Node Type</th>\n",
              "      <th>Count</th>\n",
              "    </tr>\n",
              "  </thead>\n",
              "  <tbody>\n",
              "    <tr>\n",
              "      <th>0</th>\n",
              "      <td>drug</td>\n",
              "      <td>17430</td>\n",
              "    </tr>\n",
              "  </tbody>\n",
              "</table>\n",
              "</div>"
            ],
            "text/plain": [
              "  Node Type  Count\n",
              "0      drug  17430"
            ]
          },
          "metadata": {},
          "output_type": "display_data"
        },
        {
          "name": "stdout",
          "output_type": "stream",
          "text": [
            "\n",
            "Edge types:\n"
          ]
        },
        {
          "data": {
            "application/vnd.microsoft.datawrangler.viewer.v0+json": {
              "columns": [
                {
                  "name": "index",
                  "rawType": "int64",
                  "type": "integer"
                },
                {
                  "name": "Edge Type",
                  "rawType": "float64",
                  "type": "float"
                },
                {
                  "name": "Count",
                  "rawType": "float64",
                  "type": "float"
                }
              ],
              "conversionMethod": "pd.DataFrame",
              "ref": "b114e0c8-21ae-45c7-9653-595afa0ef9ef",
              "rows": [],
              "shape": {
                "columns": 2,
                "rows": 0
              }
            },
            "text/html": [
              "<div>\n",
              "<style scoped>\n",
              "    .dataframe tbody tr th:only-of-type {\n",
              "        vertical-align: middle;\n",
              "    }\n",
              "\n",
              "    .dataframe tbody tr th {\n",
              "        vertical-align: top;\n",
              "    }\n",
              "\n",
              "    .dataframe thead th {\n",
              "        text-align: right;\n",
              "    }\n",
              "</style>\n",
              "<table border=\"1\" class=\"dataframe\">\n",
              "  <thead>\n",
              "    <tr style=\"text-align: right;\">\n",
              "      <th></th>\n",
              "      <th>Edge Type</th>\n",
              "      <th>Count</th>\n",
              "    </tr>\n",
              "  </thead>\n",
              "  <tbody>\n",
              "  </tbody>\n",
              "</table>\n",
              "</div>"
            ],
            "text/plain": [
              "Empty DataFrame\n",
              "Columns: [Edge Type, Count]\n",
              "Index: []"
            ]
          },
          "metadata": {},
          "output_type": "display_data"
        }
      ],
      "source": [
        "# Get basic statistics\n",
        "stats = analyzer.get_basic_statistics()\n",
        "\n",
        "# Display node and edge counts\n",
        "print(f\"Number of nodes: {stats['num_nodes']}\")\n",
        "print(f\"Number of edges: {stats['num_edges']}\")\n",
        "print(f\"Graph density: {stats['density']:.6f}\")\n",
        "print(f\"Connected components: {stats['num_connected_components']}\")\n",
        "print(f\"Largest component size: {stats['largest_component_size']} nodes \"\n",
        "      f\"({stats['largest_component_percentage']:.2f}% of total)\")\n",
        "\n",
        "# Display degree statistics\n",
        "print(\"\\nDegree statistics:\")\n",
        "for stat, value in stats[\"degree_stats\"].items():\n",
        "    print(f\"  {stat}: {value:.2f}\")\n",
        "\n",
        "# Create a table of node types\n",
        "node_types_df = pd.DataFrame({\n",
        "    \"Node Type\": list(stats[\"node_types\"].keys()),\n",
        "    \"Count\": list(stats[\"node_types\"].values())\n",
        "}).sort_values(\"Count\", ascending=False).reset_index(drop=True)\n",
        "\n",
        "# Display node types\n",
        "print(\"\\nNode types:\")\n",
        "display(node_types_df)\n",
        "\n",
        "# Create a table of edge types\n",
        "edge_types_df = pd.DataFrame({\n",
        "    \"Edge Type\": list(stats[\"edge_types\"].keys()),\n",
        "    \"Count\": list(stats[\"edge_types\"].values())\n",
        "}).sort_values(\"Count\", ascending=False).reset_index(drop=True)\n",
        "\n",
        "# Display edge types\n",
        "print(\"\\nEdge types:\")\n",
        "display(edge_types_df)"
      ]
    },
    {
      "cell_type": "markdown",
      "metadata": {},
      "source": [
        "### Visualize Node and Edge Type Distributions"
      ]
    },
    {
      "cell_type": "code",
      "execution_count": 4,
      "metadata": {},
      "outputs": [
        {
          "data": {
            "image/png": "[encoded data removed]",
            "text/plain": [
              "<Figure size 1000x600 with 1 Axes>"
            ]
          },
          "metadata": {},
          "output_type": "display_data"
        }
      ],
      "source": [
        "# Plot node type distribution\n",
        "node_type_fig = visualizer.plot_node_type_distribution(\n",
        "    stats[\"node_types\"], \n",
        "    title=\"Distribution of Node Types in Knowledge Graph\",\n",
        "    save_path=\"node_type_distribution.png\"\n",
        ")\n",
        "plt.show()"
      ]
    },
    {
      "cell_type": "code",
      "execution_count": 5,
      "metadata": {},
      "outputs": [
        {
          "data": {
            "image/png": "[encoded data removed]",
            "text/plain": [
              "<Figure size 1000x600 with 1 Axes>"
            ]
          },
          "metadata": {},
          "output_type": "display_data"
        }
      ],
      "source": [
        "# Plot edge type distribution\n",
        "edge_type_fig = visualizer.plot_edge_type_distribution(\n",
        "    stats[\"edge_types\"], \n",
        "    title=\"Distribution of Edge Types in Knowledge Graph\",\n",
        "    save_path=\"edge_type_distribution.png\"\n",
        ")\n",
        "plt.show()"
      ]
    },
    {
      "cell_type": "markdown",
      "metadata": {},
      "source": [
        "### Degree Distribution"
      ]
    },
    {
      "cell_type": "code",
      "execution_count": 6,
      "metadata": {},
      "outputs": [
        {
          "data": {
            "image/png": "[encoded data removed]",
            "text/plain": [
              "<Figure size 1000x600 with 1 Axes>"
            ]
          },
          "metadata": {},
          "output_type": "display_data"
        },
        {
          "data": {
            "image/png": "[encoded data removed]",
            "text/plain": [
              "<Figure size 1000x600 with 1 Axes>"
            ]
          },
          "metadata": {},
          "output_type": "display_data"
        },
        {
          "data": {
            "image/png": "[encoded data removed]",
            "text/plain": [
              "<Figure size 1000x600 with 1 Axes>"
            ]
          },
          "metadata": {},
          "output_type": "display_data"
        }
      ],
      "source": [
        "# Get degree distribution\n",
        "degree_dist = analyzer.get_degree_distribution()\n",
        "\n",
        "# Plot overall degree distribution (log-log scale)\n",
        "degree_fig = visualizer.plot_degree_distribution(\n",
        "    degree_dist[\"degree\"],\n",
        "    log_scale=True,\n",
        "    title=\"Degree Distribution (log-log scale)\",\n",
        "    save_path=\"degree_distribution_log.png\"\n",
        ")\n",
        "plt.show()\n",
        "\n",
        "# Plot in-degree distribution\n",
        "in_degree_fig = visualizer.plot_degree_distribution(\n",
        "    degree_dist[\"in_degree\"],\n",
        "    log_scale=True,\n",
        "    title=\"In-Degree Distribution (log-log scale)\",\n",
        "    save_path=\"in_degree_distribution_log.png\"\n",
        ")\n",
        "plt.show()\n",
        "\n",
        "# Plot out-degree distribution\n",
        "out_degree_fig = visualizer.plot_degree_distribution(\n",
        "    degree_dist[\"out_degree\"],\n",
        "    log_scale=True,\n",
        "    title=\"Out-Degree Distribution (log-log scale)\",\n",
        "    save_path=\"out_degree_distribution_log.png\"\n",
        ")\n",
        "plt.show()"
      ]
    },
    {
      "cell_type": "markdown",
      "metadata": {},
      "source": [
        "Let's also look at the degree distribution for specific node types."
      ]
    },
    {
      "cell_type": "code",
      "execution_count": 7,
      "metadata": {},
      "outputs": [
        {
          "data": {
            "image/png": "[encoded data removed]",
            "text/plain": [
              "<Figure size 1000x600 with 1 Axes>"
            ]
          },
          "metadata": {},
          "output_type": "display_data"
        },
        {
          "ename": "ValueError",
          "evalue": "Data has no positive values, and therefore cannot be log-scaled.",
          "output_type": "error",
          "traceback": [
            "\u001b[31m---------------------------------------------------------------------------\u001b[39m",
            "\u001b[31mValueError\u001b[39m                                Traceback (most recent call last)",
            "\u001b[36mCell\u001b[39m\u001b[36m \u001b[39m\u001b[32mIn[7]\u001b[39m\u001b[32m, line 9\u001b[39m\n\u001b[32m      6\u001b[39m type_dist = analyzer.get_degree_distribution(node_type=node_type)\n\u001b[32m      8\u001b[39m \u001b[38;5;66;03m# Plot degree distribution\u001b[39;00m\n\u001b[32m----> \u001b[39m\u001b[32m9\u001b[39m fig = \u001b[43mvisualizer\u001b[49m\u001b[43m.\u001b[49m\u001b[43mplot_degree_distribution\u001b[49m\u001b[43m(\u001b[49m\n\u001b[32m     10\u001b[39m \u001b[43m    \u001b[49m\u001b[43mtype_dist\u001b[49m\u001b[43m[\u001b[49m\u001b[33;43m\"\u001b[39;49m\u001b[33;43mdegree\u001b[39;49m\u001b[33;43m\"\u001b[39;49m\u001b[43m]\u001b[49m\u001b[43m,\u001b[49m\n\u001b[32m     11\u001b[39m \u001b[43m    \u001b[49m\u001b[43mlog_scale\u001b[49m\u001b[43m=\u001b[49m\u001b[38;5;28;43;01mTrue\u001b[39;49;00m\u001b[43m,\u001b[49m\n\u001b[32m     12\u001b[39m \u001b[43m    \u001b[49m\u001b[43mtitle\u001b[49m\u001b[43m=\u001b[49m\u001b[33;43mf\u001b[39;49m\u001b[33;43m\"\u001b[39;49m\u001b[38;5;132;43;01m{\u001b[39;49;00m\u001b[43mnode_type\u001b[49m\u001b[43m.\u001b[49m\u001b[43mcapitalize\u001b[49m\u001b[43m(\u001b[49m\u001b[43m)\u001b[49m\u001b[38;5;132;43;01m}\u001b[39;49;00m\u001b[33;43m Degree Distribution (log-log scale)\u001b[39;49m\u001b[33;43m\"\u001b[39;49m\u001b[43m,\u001b[49m\n\u001b[32m     13\u001b[39m \u001b[43m    \u001b[49m\u001b[43msave_path\u001b[49m\u001b[43m=\u001b[49m\u001b[33;43mf\u001b[39;49m\u001b[33;43m\"\u001b[39;49m\u001b[38;5;132;43;01m{\u001b[39;49;00m\u001b[43mnode_type\u001b[49m\u001b[38;5;132;43;01m}\u001b[39;49;00m\u001b[33;43m_degree_distribution_log.png\u001b[39;49m\u001b[33;43m\"\u001b[39;49m\n\u001b[32m     14\u001b[39m \u001b[43m\u001b[49m\u001b[43m)\u001b[49m\n\u001b[32m     15\u001b[39m plt.show()\n",
            "\u001b[36mFile \u001b[39m\u001b[32m~/Documents/drug_disease_interaction/src/ddi/visualization/graph_viz.py:89\u001b[39m, in \u001b[36mGraphVisualizer.plot_degree_distribution\u001b[39m\u001b[34m(self, degrees, log_scale, title, save_path)\u001b[39m\n\u001b[32m     86\u001b[39m         save_path += \u001b[33m\"\u001b[39m\u001b[33m.png\u001b[39m\u001b[33m\"\u001b[39m\n\u001b[32m     88\u001b[39m     full_path = os.path.join(\u001b[38;5;28mself\u001b[39m.output_dir, save_path) \u001b[38;5;28;01mif\u001b[39;00m \u001b[38;5;28mself\u001b[39m.output_dir \u001b[38;5;28;01melse\u001b[39;00m save_path\n\u001b[32m---> \u001b[39m\u001b[32m89\u001b[39m     \u001b[43mplt\u001b[49m\u001b[43m.\u001b[49m\u001b[43msavefig\u001b[49m\u001b[43m(\u001b[49m\u001b[43mfull_path\u001b[49m\u001b[43m,\u001b[49m\u001b[43m \u001b[49m\u001b[43mbbox_inches\u001b[49m\u001b[43m=\u001b[49m\u001b[33;43m\"\u001b[39;49m\u001b[33;43mtight\u001b[39;49m\u001b[33;43m\"\u001b[39;49m\u001b[43m,\u001b[49m\u001b[43m \u001b[49m\u001b[43mdpi\u001b[49m\u001b[43m=\u001b[49m\u001b[32;43m300\u001b[39;49m\u001b[43m)\u001b[49m\n\u001b[32m     90\u001b[39m     \u001b[38;5;28mself\u001b[39m.logger.info(\u001b[33mf\u001b[39m\u001b[33m\"\u001b[39m\u001b[33mSaved degree distribution plot to \u001b[39m\u001b[38;5;132;01m{\u001b[39;00mfull_path\u001b[38;5;132;01m}\u001b[39;00m\u001b[33m\"\u001b[39m)\n\u001b[32m     92\u001b[39m \u001b[38;5;28;01mreturn\u001b[39;00m fig\n",
            "\u001b[36mFile \u001b[39m\u001b[32m~/miniconda3/envs/ddi/lib/python3.12/site-packages/matplotlib/pyplot.py:1243\u001b[39m, in \u001b[36msavefig\u001b[39m\u001b[34m(*args, **kwargs)\u001b[39m\n\u001b[32m   1240\u001b[39m fig = gcf()\n\u001b[32m   1241\u001b[39m \u001b[38;5;66;03m# savefig default implementation has no return, so mypy is unhappy\u001b[39;00m\n\u001b[32m   1242\u001b[39m \u001b[38;5;66;03m# presumably this is here because subclasses can return?\u001b[39;00m\n\u001b[32m-> \u001b[39m\u001b[32m1243\u001b[39m res = \u001b[43mfig\u001b[49m\u001b[43m.\u001b[49m\u001b[43msavefig\u001b[49m\u001b[43m(\u001b[49m\u001b[43m*\u001b[49m\u001b[43margs\u001b[49m\u001b[43m,\u001b[49m\u001b[43m \u001b[49m\u001b[43m*\u001b[49m\u001b[43m*\u001b[49m\u001b[43mkwargs\u001b[49m\u001b[43m)\u001b[49m  \u001b[38;5;66;03m# type: ignore[func-returns-value]\u001b[39;00m\n\u001b[32m   1244\u001b[39m fig.canvas.draw_idle()  \u001b[38;5;66;03m# Need this if 'transparent=True', to reset colors.\u001b[39;00m\n\u001b[32m   1245\u001b[39m \u001b[38;5;28;01mreturn\u001b[39;00m res\n",
            "\u001b[36mFile \u001b[39m\u001b[32m~/miniconda3/envs/ddi/lib/python3.12/site-packages/matplotlib/figure.py:3490\u001b[39m, in \u001b[36mFigure.savefig\u001b[39m\u001b[34m(self, fname, transparent, **kwargs)\u001b[39m\n\u001b[32m   3488\u001b[39m     \u001b[38;5;28;01mfor\u001b[39;00m ax \u001b[38;5;129;01min\u001b[39;00m \u001b[38;5;28mself\u001b[39m.axes:\n\u001b[32m   3489\u001b[39m         _recursively_make_axes_transparent(stack, ax)\n\u001b[32m-> \u001b[39m\u001b[32m3490\u001b[39m \u001b[38;5;28;43mself\u001b[39;49m\u001b[43m.\u001b[49m\u001b[43mcanvas\u001b[49m\u001b[43m.\u001b[49m\u001b[43mprint_figure\u001b[49m\u001b[43m(\u001b[49m\u001b[43mfname\u001b[49m\u001b[43m,\u001b[49m\u001b[43m \u001b[49m\u001b[43m*\u001b[49m\u001b[43m*\u001b[49m\u001b[43mkwargs\u001b[49m\u001b[43m)\u001b[49m\n",
            "\u001b[36mFile \u001b[39m\u001b[32m~/miniconda3/envs/ddi/lib/python3.12/site-packages/matplotlib/backend_bases.py:2155\u001b[39m, in \u001b[36mFigureCanvasBase.print_figure\u001b[39m\u001b[34m(self, filename, dpi, facecolor, edgecolor, orientation, format, bbox_inches, pad_inches, bbox_extra_artists, backend, **kwargs)\u001b[39m\n\u001b[32m   2152\u001b[39m     \u001b[38;5;66;03m# we do this instead of `self.figure.draw_without_rendering`\u001b[39;00m\n\u001b[32m   2153\u001b[39m     \u001b[38;5;66;03m# so that we can inject the orientation\u001b[39;00m\n\u001b[32m   2154\u001b[39m     \u001b[38;5;28;01mwith\u001b[39;00m \u001b[38;5;28mgetattr\u001b[39m(renderer, \u001b[33m\"\u001b[39m\u001b[33m_draw_disabled\u001b[39m\u001b[33m\"\u001b[39m, nullcontext)():\n\u001b[32m-> \u001b[39m\u001b[32m2155\u001b[39m         \u001b[38;5;28;43mself\u001b[39;49m\u001b[43m.\u001b[49m\u001b[43mfigure\u001b[49m\u001b[43m.\u001b[49m\u001b[43mdraw\u001b[49m\u001b[43m(\u001b[49m\u001b[43mrenderer\u001b[49m\u001b[43m)\u001b[49m\n\u001b[32m   2156\u001b[39m \u001b[38;5;28;01mif\u001b[39;00m bbox_inches:\n\u001b[32m   2157\u001b[39m     \u001b[38;5;28;01mif\u001b[39;00m bbox_inches == \u001b[33m\"\u001b[39m\u001b[33mtight\u001b[39m\u001b[33m\"\u001b[39m:\n",
            "\u001b[36mFile \u001b[39m\u001b[32m~/miniconda3/envs/ddi/lib/python3.12/site-packages/matplotlib/artist.py:94\u001b[39m, in \u001b[36m_finalize_rasterization.<locals>.draw_wrapper\u001b[39m\u001b[34m(artist, renderer, *args, **kwargs)\u001b[39m\n\u001b[32m     92\u001b[39m \u001b[38;5;129m@wraps\u001b[39m(draw)\n\u001b[32m     93\u001b[39m \u001b[38;5;28;01mdef\u001b[39;00m\u001b[38;5;250m \u001b[39m\u001b[34mdraw_wrapper\u001b[39m(artist, renderer, *args, **kwargs):\n\u001b[32m---> \u001b[39m\u001b[32m94\u001b[39m     result = \u001b[43mdraw\u001b[49m\u001b[43m(\u001b[49m\u001b[43martist\u001b[49m\u001b[43m,\u001b[49m\u001b[43m \u001b[49m\u001b[43mrenderer\u001b[49m\u001b[43m,\u001b[49m\u001b[43m \u001b[49m\u001b[43m*\u001b[49m\u001b[43margs\u001b[49m\u001b[43m,\u001b[49m\u001b[43m \u001b[49m\u001b[43m*\u001b[49m\u001b[43m*\u001b[49m\u001b[43mkwargs\u001b[49m\u001b[43m)\u001b[49m\n\u001b[32m     95\u001b[39m     \u001b[38;5;28;01mif\u001b[39;00m renderer._rasterizing:\n\u001b[32m     96\u001b[39m         renderer.stop_rasterizing()\n",
            "\u001b[36mFile \u001b[39m\u001b[32m~/miniconda3/envs/ddi/lib/python3.12/site-packages/matplotlib/artist.py:71\u001b[39m, in \u001b[36mallow_rasterization.<locals>.draw_wrapper\u001b[39m\u001b[34m(artist, renderer)\u001b[39m\n\u001b[32m     68\u001b[39m     \u001b[38;5;28;01mif\u001b[39;00m artist.get_agg_filter() \u001b[38;5;129;01mis\u001b[39;00m \u001b[38;5;129;01mnot\u001b[39;00m \u001b[38;5;28;01mNone\u001b[39;00m:\n\u001b[32m     69\u001b[39m         renderer.start_filter()\n\u001b[32m---> \u001b[39m\u001b[32m71\u001b[39m     \u001b[38;5;28;01mreturn\u001b[39;00m \u001b[43mdraw\u001b[49m\u001b[43m(\u001b[49m\u001b[43martist\u001b[49m\u001b[43m,\u001b[49m\u001b[43m \u001b[49m\u001b[43mrenderer\u001b[49m\u001b[43m)\u001b[49m\n\u001b[32m     72\u001b[39m \u001b[38;5;28;01mfinally\u001b[39;00m:\n\u001b[32m     73\u001b[39m     \u001b[38;5;28;01mif\u001b[39;00m artist.get_agg_filter() \u001b[38;5;129;01mis\u001b[39;00m \u001b[38;5;129;01mnot\u001b[39;00m \u001b[38;5;28;01mNone\u001b[39;00m:\n",
            "\u001b[36mFile \u001b[39m\u001b[32m~/miniconda3/envs/ddi/lib/python3.12/site-packages/matplotlib/figure.py:3257\u001b[39m, in \u001b[36mFigure.draw\u001b[39m\u001b[34m(self, renderer)\u001b[39m\n\u001b[32m   3254\u001b[39m             \u001b[38;5;66;03m# ValueError can occur when resizing a window.\u001b[39;00m\n\u001b[32m   3256\u001b[39m     \u001b[38;5;28mself\u001b[39m.patch.draw(renderer)\n\u001b[32m-> \u001b[39m\u001b[32m3257\u001b[39m     \u001b[43mmimage\u001b[49m\u001b[43m.\u001b[49m\u001b[43m_draw_list_compositing_images\u001b[49m\u001b[43m(\u001b[49m\n\u001b[32m   3258\u001b[39m \u001b[43m        \u001b[49m\u001b[43mrenderer\u001b[49m\u001b[43m,\u001b[49m\u001b[43m \u001b[49m\u001b[38;5;28;43mself\u001b[39;49m\u001b[43m,\u001b[49m\u001b[43m \u001b[49m\u001b[43martists\u001b[49m\u001b[43m,\u001b[49m\u001b[43m \u001b[49m\u001b[38;5;28;43mself\u001b[39;49m\u001b[43m.\u001b[49m\u001b[43msuppressComposite\u001b[49m\u001b[43m)\u001b[49m\n\u001b[32m   3260\u001b[39m     renderer.close_group(\u001b[33m'\u001b[39m\u001b[33mfigure\u001b[39m\u001b[33m'\u001b[39m)\n\u001b[32m   3261\u001b[39m \u001b[38;5;28;01mfinally\u001b[39;00m:\n",
            "\u001b[36mFile \u001b[39m\u001b[32m~/miniconda3/envs/ddi/lib/python3.12/site-packages/matplotlib/image.py:134\u001b[39m, in \u001b[36m_draw_list_compositing_images\u001b[39m\u001b[34m(renderer, parent, artists, suppress_composite)\u001b[39m\n\u001b[32m    132\u001b[39m \u001b[38;5;28;01mif\u001b[39;00m not_composite \u001b[38;5;129;01mor\u001b[39;00m \u001b[38;5;129;01mnot\u001b[39;00m has_images:\n\u001b[32m    133\u001b[39m     \u001b[38;5;28;01mfor\u001b[39;00m a \u001b[38;5;129;01min\u001b[39;00m artists:\n\u001b[32m--> \u001b[39m\u001b[32m134\u001b[39m         \u001b[43ma\u001b[49m\u001b[43m.\u001b[49m\u001b[43mdraw\u001b[49m\u001b[43m(\u001b[49m\u001b[43mrenderer\u001b[49m\u001b[43m)\u001b[49m\n\u001b[32m    135\u001b[39m \u001b[38;5;28;01melse\u001b[39;00m:\n\u001b[32m    136\u001b[39m     \u001b[38;5;66;03m# Composite any adjacent images together\u001b[39;00m\n\u001b[32m    137\u001b[39m     image_group = []\n",
            "\u001b[36mFile \u001b[39m\u001b[32m~/miniconda3/envs/ddi/lib/python3.12/site-packages/matplotlib/artist.py:71\u001b[39m, in \u001b[36mallow_rasterization.<locals>.draw_wrapper\u001b[39m\u001b[34m(artist, renderer)\u001b[39m\n\u001b[32m     68\u001b[39m     \u001b[38;5;28;01mif\u001b[39;00m artist.get_agg_filter() \u001b[38;5;129;01mis\u001b[39;00m \u001b[38;5;129;01mnot\u001b[39;00m \u001b[38;5;28;01mNone\u001b[39;00m:\n\u001b[32m     69\u001b[39m         renderer.start_filter()\n\u001b[32m---> \u001b[39m\u001b[32m71\u001b[39m     \u001b[38;5;28;01mreturn\u001b[39;00m \u001b[43mdraw\u001b[49m\u001b[43m(\u001b[49m\u001b[43martist\u001b[49m\u001b[43m,\u001b[49m\u001b[43m \u001b[49m\u001b[43mrenderer\u001b[49m\u001b[43m)\u001b[49m\n\u001b[32m     72\u001b[39m \u001b[38;5;28;01mfinally\u001b[39;00m:\n\u001b[32m     73\u001b[39m     \u001b[38;5;28;01mif\u001b[39;00m artist.get_agg_filter() \u001b[38;5;129;01mis\u001b[39;00m \u001b[38;5;129;01mnot\u001b[39;00m \u001b[38;5;28;01mNone\u001b[39;00m:\n",
            "\u001b[36mFile \u001b[39m\u001b[32m~/miniconda3/envs/ddi/lib/python3.12/site-packages/matplotlib/axes/_base.py:3174\u001b[39m, in \u001b[36m_AxesBase.draw\u001b[39m\u001b[34m(self, renderer)\u001b[39m\n\u001b[32m   3171\u001b[39m     \u001b[38;5;28;01mfor\u001b[39;00m spine \u001b[38;5;129;01min\u001b[39;00m \u001b[38;5;28mself\u001b[39m.spines.values():\n\u001b[32m   3172\u001b[39m         artists.remove(spine)\n\u001b[32m-> \u001b[39m\u001b[32m3174\u001b[39m \u001b[38;5;28;43mself\u001b[39;49m\u001b[43m.\u001b[49m\u001b[43m_update_title_position\u001b[49m\u001b[43m(\u001b[49m\u001b[43mrenderer\u001b[49m\u001b[43m)\u001b[49m\n\u001b[32m   3176\u001b[39m \u001b[38;5;28;01mif\u001b[39;00m \u001b[38;5;129;01mnot\u001b[39;00m \u001b[38;5;28mself\u001b[39m.axison:\n\u001b[32m   3177\u001b[39m     \u001b[38;5;28;01mfor\u001b[39;00m _axis \u001b[38;5;129;01min\u001b[39;00m \u001b[38;5;28mself\u001b[39m._axis_map.values():\n",
            "\u001b[36mFile \u001b[39m\u001b[32m~/miniconda3/envs/ddi/lib/python3.12/site-packages/matplotlib/axes/_base.py:3118\u001b[39m, in \u001b[36m_AxesBase._update_title_position\u001b[39m\u001b[34m(self, renderer)\u001b[39m\n\u001b[32m   3116\u001b[39m \u001b[38;5;28;01mif\u001b[39;00m title.get_text():\n\u001b[32m   3117\u001b[39m     \u001b[38;5;28;01mfor\u001b[39;00m ax \u001b[38;5;129;01min\u001b[39;00m axs:\n\u001b[32m-> \u001b[39m\u001b[32m3118\u001b[39m         \u001b[43max\u001b[49m\u001b[43m.\u001b[49m\u001b[43myaxis\u001b[49m\u001b[43m.\u001b[49m\u001b[43mget_tightbbox\u001b[49m\u001b[43m(\u001b[49m\u001b[43mrenderer\u001b[49m\u001b[43m)\u001b[49m  \u001b[38;5;66;03m# update offsetText\u001b[39;00m\n\u001b[32m   3119\u001b[39m         \u001b[38;5;28;01mif\u001b[39;00m ax.yaxis.offsetText.get_text():\n\u001b[32m   3120\u001b[39m             bb = ax.yaxis.offsetText.get_tightbbox(renderer)\n",
            "\u001b[36mFile \u001b[39m\u001b[32m~/miniconda3/envs/ddi/lib/python3.12/site-packages/matplotlib/axis.py:1351\u001b[39m, in \u001b[36mAxis.get_tightbbox\u001b[39m\u001b[34m(self, renderer, for_layout_only)\u001b[39m\n\u001b[32m   1349\u001b[39m \u001b[38;5;28;01mif\u001b[39;00m renderer \u001b[38;5;129;01mis\u001b[39;00m \u001b[38;5;28;01mNone\u001b[39;00m:\n\u001b[32m   1350\u001b[39m     renderer = \u001b[38;5;28mself\u001b[39m.get_figure(root=\u001b[38;5;28;01mTrue\u001b[39;00m)._get_renderer()\n\u001b[32m-> \u001b[39m\u001b[32m1351\u001b[39m ticks_to_draw = \u001b[38;5;28;43mself\u001b[39;49m\u001b[43m.\u001b[49m\u001b[43m_update_ticks\u001b[49m\u001b[43m(\u001b[49m\u001b[43m)\u001b[49m\n\u001b[32m   1353\u001b[39m \u001b[38;5;28mself\u001b[39m._update_label_position(renderer)\n\u001b[32m   1355\u001b[39m \u001b[38;5;66;03m# go back to just this axis's tick labels\u001b[39;00m\n",
            "\u001b[36mFile \u001b[39m\u001b[32m~/miniconda3/envs/ddi/lib/python3.12/site-packages/matplotlib/axis.py:1281\u001b[39m, in \u001b[36mAxis._update_ticks\u001b[39m\u001b[34m(self)\u001b[39m\n\u001b[32m   1276\u001b[39m \u001b[38;5;28;01mdef\u001b[39;00m\u001b[38;5;250m \u001b[39m\u001b[34m_update_ticks\u001b[39m(\u001b[38;5;28mself\u001b[39m):\n\u001b[32m   1277\u001b[39m \u001b[38;5;250m    \u001b[39m\u001b[33;03m\"\"\"\u001b[39;00m\n\u001b[32m   1278\u001b[39m \u001b[33;03m    Update ticks (position and labels) using the current data interval of\u001b[39;00m\n\u001b[32m   1279\u001b[39m \u001b[33;03m    the axes.  Return the list of ticks that will be drawn.\u001b[39;00m\n\u001b[32m   1280\u001b[39m \u001b[33;03m    \"\"\"\u001b[39;00m\n\u001b[32m-> \u001b[39m\u001b[32m1281\u001b[39m     major_locs = \u001b[38;5;28;43mself\u001b[39;49m\u001b[43m.\u001b[49m\u001b[43mget_majorticklocs\u001b[49m\u001b[43m(\u001b[49m\u001b[43m)\u001b[49m\n\u001b[32m   1282\u001b[39m     major_labels = \u001b[38;5;28mself\u001b[39m.major.formatter.format_ticks(major_locs)\n\u001b[32m   1283\u001b[39m     major_ticks = \u001b[38;5;28mself\u001b[39m.get_major_ticks(\u001b[38;5;28mlen\u001b[39m(major_locs))\n",
            "\u001b[36mFile \u001b[39m\u001b[32m~/miniconda3/envs/ddi/lib/python3.12/site-packages/matplotlib/axis.py:1525\u001b[39m, in \u001b[36mAxis.get_majorticklocs\u001b[39m\u001b[34m(self)\u001b[39m\n\u001b[32m   1523\u001b[39m \u001b[38;5;28;01mdef\u001b[39;00m\u001b[38;5;250m \u001b[39m\u001b[34mget_majorticklocs\u001b[39m(\u001b[38;5;28mself\u001b[39m):\n\u001b[32m   1524\u001b[39m \u001b[38;5;250m    \u001b[39m\u001b[33;03m\"\"\"Return this Axis' major tick locations in data coordinates.\"\"\"\u001b[39;00m\n\u001b[32m-> \u001b[39m\u001b[32m1525\u001b[39m     \u001b[38;5;28;01mreturn\u001b[39;00m \u001b[38;5;28;43mself\u001b[39;49m\u001b[43m.\u001b[49m\u001b[43mmajor\u001b[49m\u001b[43m.\u001b[49m\u001b[43mlocator\u001b[49m\u001b[43m(\u001b[49m\u001b[43m)\u001b[49m\n",
            "\u001b[36mFile \u001b[39m\u001b[32m~/miniconda3/envs/ddi/lib/python3.12/site-packages/matplotlib/ticker.py:2401\u001b[39m, in \u001b[36mLogLocator.__call__\u001b[39m\u001b[34m(self)\u001b[39m\n\u001b[32m   2399\u001b[39m \u001b[38;5;250m\u001b[39m\u001b[33;03m\"\"\"Return the locations of the ticks.\"\"\"\u001b[39;00m\n\u001b[32m   2400\u001b[39m vmin, vmax = \u001b[38;5;28mself\u001b[39m.axis.get_view_interval()\n\u001b[32m-> \u001b[39m\u001b[32m2401\u001b[39m \u001b[38;5;28;01mreturn\u001b[39;00m \u001b[38;5;28;43mself\u001b[39;49m\u001b[43m.\u001b[49m\u001b[43mtick_values\u001b[49m\u001b[43m(\u001b[49m\u001b[43mvmin\u001b[49m\u001b[43m,\u001b[49m\u001b[43m \u001b[49m\u001b[43mvmax\u001b[49m\u001b[43m)\u001b[49m\n",
            "\u001b[36mFile \u001b[39m\u001b[32m~/miniconda3/envs/ddi/lib/python3.12/site-packages/matplotlib/ticker.py:2418\u001b[39m, in \u001b[36mLogLocator.tick_values\u001b[39m\u001b[34m(self, vmin, vmax)\u001b[39m\n\u001b[32m   2415\u001b[39m         vmin = \u001b[38;5;28mself\u001b[39m.axis.get_minpos()\n\u001b[32m   2417\u001b[39m     \u001b[38;5;28;01mif\u001b[39;00m vmin <= \u001b[32m0.0\u001b[39m \u001b[38;5;129;01mor\u001b[39;00m \u001b[38;5;129;01mnot\u001b[39;00m np.isfinite(vmin):\n\u001b[32m-> \u001b[39m\u001b[32m2418\u001b[39m         \u001b[38;5;28;01mraise\u001b[39;00m \u001b[38;5;167;01mValueError\u001b[39;00m(\n\u001b[32m   2419\u001b[39m             \u001b[33m\"\u001b[39m\u001b[33mData has no positive values, and therefore cannot be log-scaled.\u001b[39m\u001b[33m\"\u001b[39m)\n\u001b[32m   2421\u001b[39m _log.debug(\u001b[33m'\u001b[39m\u001b[33mvmin \u001b[39m\u001b[38;5;132;01m%s\u001b[39;00m\u001b[33m vmax \u001b[39m\u001b[38;5;132;01m%s\u001b[39;00m\u001b[33m'\u001b[39m, vmin, vmax)\n\u001b[32m   2423\u001b[39m \u001b[38;5;28;01mif\u001b[39;00m vmax < vmin:\n",
            "\u001b[31mValueError\u001b[39m: Data has no positive values, and therefore cannot be log-scaled."
          ]
        },
        {
          "name": "stdout",
          "output_type": "stream",
          "text": [
            "Error in callback <function _draw_all_if_interactive at 0x12fe92e80> (for post_execute), with arguments args (),kwargs {}:\n"
          ]
        },
        {
          "ename": "ValueError",
          "evalue": "Data has no positive values, and therefore cannot be log-scaled.",
          "output_type": "error",
          "traceback": [
            "\u001b[31m---------------------------------------------------------------------------\u001b[39m",
            "\u001b[31mValueError\u001b[39m                                Traceback (most recent call last)",
            "\u001b[36mFile \u001b[39m\u001b[32m~/miniconda3/envs/ddi/lib/python3.12/site-packages/matplotlib/pyplot.py:279\u001b[39m, in \u001b[36m_draw_all_if_interactive\u001b[39m\u001b[34m()\u001b[39m\n\u001b[32m    277\u001b[39m \u001b[38;5;28;01mdef\u001b[39;00m\u001b[38;5;250m \u001b[39m\u001b[34m_draw_all_if_interactive\u001b[39m() -> \u001b[38;5;28;01mNone\u001b[39;00m:\n\u001b[32m    278\u001b[39m     \u001b[38;5;28;01mif\u001b[39;00m matplotlib.is_interactive():\n\u001b[32m--> \u001b[39m\u001b[32m279\u001b[39m         \u001b[43mdraw_all\u001b[49m\u001b[43m(\u001b[49m\u001b[43m)\u001b[49m\n",
            "\u001b[36mFile \u001b[39m\u001b[32m~/miniconda3/envs/ddi/lib/python3.12/site-packages/matplotlib/_pylab_helpers.py:131\u001b[39m, in \u001b[36mGcf.draw_all\u001b[39m\u001b[34m(cls, force)\u001b[39m\n\u001b[32m    129\u001b[39m \u001b[38;5;28;01mfor\u001b[39;00m manager \u001b[38;5;129;01min\u001b[39;00m \u001b[38;5;28mcls\u001b[39m.get_all_fig_managers():\n\u001b[32m    130\u001b[39m     \u001b[38;5;28;01mif\u001b[39;00m force \u001b[38;5;129;01mor\u001b[39;00m manager.canvas.figure.stale:\n\u001b[32m--> \u001b[39m\u001b[32m131\u001b[39m         \u001b[43mmanager\u001b[49m\u001b[43m.\u001b[49m\u001b[43mcanvas\u001b[49m\u001b[43m.\u001b[49m\u001b[43mdraw_idle\u001b[49m\u001b[43m(\u001b[49m\u001b[43m)\u001b[49m\n",
            "\u001b[36mFile \u001b[39m\u001b[32m~/miniconda3/envs/ddi/lib/python3.12/site-packages/matplotlib/backend_bases.py:1891\u001b[39m, in \u001b[36mFigureCanvasBase.draw_idle\u001b[39m\u001b[34m(self, *args, **kwargs)\u001b[39m\n\u001b[32m   1889\u001b[39m \u001b[38;5;28;01mif\u001b[39;00m \u001b[38;5;129;01mnot\u001b[39;00m \u001b[38;5;28mself\u001b[39m._is_idle_drawing:\n\u001b[32m   1890\u001b[39m     \u001b[38;5;28;01mwith\u001b[39;00m \u001b[38;5;28mself\u001b[39m._idle_draw_cntx():\n\u001b[32m-> \u001b[39m\u001b[32m1891\u001b[39m         \u001b[38;5;28;43mself\u001b[39;49m\u001b[43m.\u001b[49m\u001b[43mdraw\u001b[49m\u001b[43m(\u001b[49m\u001b[43m*\u001b[49m\u001b[43margs\u001b[49m\u001b[43m,\u001b[49m\u001b[43m \u001b[49m\u001b[43m*\u001b[49m\u001b[43m*\u001b[49m\u001b[43mkwargs\u001b[49m\u001b[43m)\u001b[49m\n",
            "\u001b[36mFile \u001b[39m\u001b[32m~/miniconda3/envs/ddi/lib/python3.12/site-packages/matplotlib/backends/backend_agg.py:382\u001b[39m, in \u001b[36mFigureCanvasAgg.draw\u001b[39m\u001b[34m(self)\u001b[39m\n\u001b[32m    379\u001b[39m \u001b[38;5;66;03m# Acquire a lock on the shared font cache.\u001b[39;00m\n\u001b[32m    380\u001b[39m \u001b[38;5;28;01mwith\u001b[39;00m (\u001b[38;5;28mself\u001b[39m.toolbar._wait_cursor_for_draw_cm() \u001b[38;5;28;01mif\u001b[39;00m \u001b[38;5;28mself\u001b[39m.toolbar\n\u001b[32m    381\u001b[39m       \u001b[38;5;28;01melse\u001b[39;00m nullcontext()):\n\u001b[32m--> \u001b[39m\u001b[32m382\u001b[39m     \u001b[38;5;28;43mself\u001b[39;49m\u001b[43m.\u001b[49m\u001b[43mfigure\u001b[49m\u001b[43m.\u001b[49m\u001b[43mdraw\u001b[49m\u001b[43m(\u001b[49m\u001b[38;5;28;43mself\u001b[39;49m\u001b[43m.\u001b[49m\u001b[43mrenderer\u001b[49m\u001b[43m)\u001b[49m\n\u001b[32m    383\u001b[39m     \u001b[38;5;66;03m# A GUI class may be need to update a window using this draw, so\u001b[39;00m\n\u001b[32m    384\u001b[39m     \u001b[38;5;66;03m# don't forget to call the superclass.\u001b[39;00m\n\u001b[32m    385\u001b[39m     \u001b[38;5;28msuper\u001b[39m().draw()\n",
            "\u001b[36mFile \u001b[39m\u001b[32m~/miniconda3/envs/ddi/lib/python3.12/site-packages/matplotlib/artist.py:94\u001b[39m, in \u001b[36m_finalize_rasterization.<locals>.draw_wrapper\u001b[39m\u001b[34m(artist, renderer, *args, **kwargs)\u001b[39m\n\u001b[32m     92\u001b[39m \u001b[38;5;129m@wraps\u001b[39m(draw)\n\u001b[32m     93\u001b[39m \u001b[38;5;28;01mdef\u001b[39;00m\u001b[38;5;250m \u001b[39m\u001b[34mdraw_wrapper\u001b[39m(artist, renderer, *args, **kwargs):\n\u001b[32m---> \u001b[39m\u001b[32m94\u001b[39m     result = \u001b[43mdraw\u001b[49m\u001b[43m(\u001b[49m\u001b[43martist\u001b[49m\u001b[43m,\u001b[49m\u001b[43m \u001b[49m\u001b[43mrenderer\u001b[49m\u001b[43m,\u001b[49m\u001b[43m \u001b[49m\u001b[43m*\u001b[49m\u001b[43margs\u001b[49m\u001b[43m,\u001b[49m\u001b[43m \u001b[49m\u001b[43m*\u001b[49m\u001b[43m*\u001b[49m\u001b[43mkwargs\u001b[49m\u001b[43m)\u001b[49m\n\u001b[32m     95\u001b[39m     \u001b[38;5;28;01mif\u001b[39;00m renderer._rasterizing:\n\u001b[32m     96\u001b[39m         renderer.stop_rasterizing()\n",
            "\u001b[36mFile \u001b[39m\u001b[32m~/miniconda3/envs/ddi/lib/python3.12/site-packages/matplotlib/artist.py:71\u001b[39m, in \u001b[36mallow_rasterization.<locals>.draw_wrapper\u001b[39m\u001b[34m(artist, renderer)\u001b[39m\n\u001b[32m     68\u001b[39m     \u001b[38;5;28;01mif\u001b[39;00m artist.get_agg_filter() \u001b[38;5;129;01mis\u001b[39;00m \u001b[38;5;129;01mnot\u001b[39;00m \u001b[38;5;28;01mNone\u001b[39;00m:\n\u001b[32m     69\u001b[39m         renderer.start_filter()\n\u001b[32m---> \u001b[39m\u001b[32m71\u001b[39m     \u001b[38;5;28;01mreturn\u001b[39;00m \u001b[43mdraw\u001b[49m\u001b[43m(\u001b[49m\u001b[43martist\u001b[49m\u001b[43m,\u001b[49m\u001b[43m \u001b[49m\u001b[43mrenderer\u001b[49m\u001b[43m)\u001b[49m\n\u001b[32m     72\u001b[39m \u001b[38;5;28;01mfinally\u001b[39;00m:\n\u001b[32m     73\u001b[39m     \u001b[38;5;28;01mif\u001b[39;00m artist.get_agg_filter() \u001b[38;5;129;01mis\u001b[39;00m \u001b[38;5;129;01mnot\u001b[39;00m \u001b[38;5;28;01mNone\u001b[39;00m:\n",
            "\u001b[36mFile \u001b[39m\u001b[32m~/miniconda3/envs/ddi/lib/python3.12/site-packages/matplotlib/figure.py:3257\u001b[39m, in \u001b[36mFigure.draw\u001b[39m\u001b[34m(self, renderer)\u001b[39m\n\u001b[32m   3254\u001b[39m             \u001b[38;5;66;03m# ValueError can occur when resizing a window.\u001b[39;00m\n\u001b[32m   3256\u001b[39m     \u001b[38;5;28mself\u001b[39m.patch.draw(renderer)\n\u001b[32m-> \u001b[39m\u001b[32m3257\u001b[39m     \u001b[43mmimage\u001b[49m\u001b[43m.\u001b[49m\u001b[43m_draw_list_compositing_images\u001b[49m\u001b[43m(\u001b[49m\n\u001b[32m   3258\u001b[39m \u001b[43m        \u001b[49m\u001b[43mrenderer\u001b[49m\u001b[43m,\u001b[49m\u001b[43m \u001b[49m\u001b[38;5;28;43mself\u001b[39;49m\u001b[43m,\u001b[49m\u001b[43m \u001b[49m\u001b[43martists\u001b[49m\u001b[43m,\u001b[49m\u001b[43m \u001b[49m\u001b[38;5;28;43mself\u001b[39;49m\u001b[43m.\u001b[49m\u001b[43msuppressComposite\u001b[49m\u001b[43m)\u001b[49m\n\u001b[32m   3260\u001b[39m     renderer.close_group(\u001b[33m'\u001b[39m\u001b[33mfigure\u001b[39m\u001b[33m'\u001b[39m)\n\u001b[32m   3261\u001b[39m \u001b[38;5;28;01mfinally\u001b[39;00m:\n",
            "\u001b[36mFile \u001b[39m\u001b[32m~/miniconda3/envs/ddi/lib/python3.12/site-packages/matplotlib/image.py:134\u001b[39m, in \u001b[36m_draw_list_compositing_images\u001b[39m\u001b[34m(renderer, parent, artists, suppress_composite)\u001b[39m\n\u001b[32m    132\u001b[39m \u001b[38;5;28;01mif\u001b[39;00m not_composite \u001b[38;5;129;01mor\u001b[39;00m \u001b[38;5;129;01mnot\u001b[39;00m has_images:\n\u001b[32m    133\u001b[39m     \u001b[38;5;28;01mfor\u001b[39;00m a \u001b[38;5;129;01min\u001b[39;00m artists:\n\u001b[32m--> \u001b[39m\u001b[32m134\u001b[39m         \u001b[43ma\u001b[49m\u001b[43m.\u001b[49m\u001b[43mdraw\u001b[49m\u001b[43m(\u001b[49m\u001b[43mrenderer\u001b[49m\u001b[43m)\u001b[49m\n\u001b[32m    135\u001b[39m \u001b[38;5;28;01melse\u001b[39;00m:\n\u001b[32m    136\u001b[39m     \u001b[38;5;66;03m# Composite any adjacent images together\u001b[39;00m\n\u001b[32m    137\u001b[39m     image_group = []\n",
            "\u001b[36mFile \u001b[39m\u001b[32m~/miniconda3/envs/ddi/lib/python3.12/site-packages/matplotlib/artist.py:71\u001b[39m, in \u001b[36mallow_rasterization.<locals>.draw_wrapper\u001b[39m\u001b[34m(artist, renderer)\u001b[39m\n\u001b[32m     68\u001b[39m     \u001b[38;5;28;01mif\u001b[39;00m artist.get_agg_filter() \u001b[38;5;129;01mis\u001b[39;00m \u001b[38;5;129;01mnot\u001b[39;00m \u001b[38;5;28;01mNone\u001b[39;00m:\n\u001b[32m     69\u001b[39m         renderer.start_filter()\n\u001b[32m---> \u001b[39m\u001b[32m71\u001b[39m     \u001b[38;5;28;01mreturn\u001b[39;00m \u001b[43mdraw\u001b[49m\u001b[43m(\u001b[49m\u001b[43martist\u001b[49m\u001b[43m,\u001b[49m\u001b[43m \u001b[49m\u001b[43mrenderer\u001b[49m\u001b[43m)\u001b[49m\n\u001b[32m     72\u001b[39m \u001b[38;5;28;01mfinally\u001b[39;00m:\n\u001b[32m     73\u001b[39m     \u001b[38;5;28;01mif\u001b[39;00m artist.get_agg_filter() \u001b[38;5;129;01mis\u001b[39;00m \u001b[38;5;129;01mnot\u001b[39;00m \u001b[38;5;28;01mNone\u001b[39;00m:\n",
            "\u001b[36mFile \u001b[39m\u001b[32m~/miniconda3/envs/ddi/lib/python3.12/site-packages/matplotlib/axes/_base.py:3174\u001b[39m, in \u001b[36m_AxesBase.draw\u001b[39m\u001b[34m(self, renderer)\u001b[39m\n\u001b[32m   3171\u001b[39m     \u001b[38;5;28;01mfor\u001b[39;00m spine \u001b[38;5;129;01min\u001b[39;00m \u001b[38;5;28mself\u001b[39m.spines.values():\n\u001b[32m   3172\u001b[39m         artists.remove(spine)\n\u001b[32m-> \u001b[39m\u001b[32m3174\u001b[39m \u001b[38;5;28;43mself\u001b[39;49m\u001b[43m.\u001b[49m\u001b[43m_update_title_position\u001b[49m\u001b[43m(\u001b[49m\u001b[43mrenderer\u001b[49m\u001b[43m)\u001b[49m\n\u001b[32m   3176\u001b[39m \u001b[38;5;28;01mif\u001b[39;00m \u001b[38;5;129;01mnot\u001b[39;00m \u001b[38;5;28mself\u001b[39m.axison:\n\u001b[32m   3177\u001b[39m     \u001b[38;5;28;01mfor\u001b[39;00m _axis \u001b[38;5;129;01min\u001b[39;00m \u001b[38;5;28mself\u001b[39m._axis_map.values():\n",
            "\u001b[36mFile \u001b[39m\u001b[32m~/miniconda3/envs/ddi/lib/python3.12/site-packages/matplotlib/axes/_base.py:3118\u001b[39m, in \u001b[36m_AxesBase._update_title_position\u001b[39m\u001b[34m(self, renderer)\u001b[39m\n\u001b[32m   3116\u001b[39m \u001b[38;5;28;01mif\u001b[39;00m title.get_text():\n\u001b[32m   3117\u001b[39m     \u001b[38;5;28;01mfor\u001b[39;00m ax \u001b[38;5;129;01min\u001b[39;00m axs:\n\u001b[32m-> \u001b[39m\u001b[32m3118\u001b[39m         \u001b[43max\u001b[49m\u001b[43m.\u001b[49m\u001b[43myaxis\u001b[49m\u001b[43m.\u001b[49m\u001b[43mget_tightbbox\u001b[49m\u001b[43m(\u001b[49m\u001b[43mrenderer\u001b[49m\u001b[43m)\u001b[49m  \u001b[38;5;66;03m# update offsetText\u001b[39;00m\n\u001b[32m   3119\u001b[39m         \u001b[38;5;28;01mif\u001b[39;00m ax.yaxis.offsetText.get_text():\n\u001b[32m   3120\u001b[39m             bb = ax.yaxis.offsetText.get_tightbbox(renderer)\n",
            "\u001b[36mFile \u001b[39m\u001b[32m~/miniconda3/envs/ddi/lib/python3.12/site-packages/matplotlib/axis.py:1351\u001b[39m, in \u001b[36mAxis.get_tightbbox\u001b[39m\u001b[34m(self, renderer, for_layout_only)\u001b[39m\n\u001b[32m   1349\u001b[39m \u001b[38;5;28;01mif\u001b[39;00m renderer \u001b[38;5;129;01mis\u001b[39;00m \u001b[38;5;28;01mNone\u001b[39;00m:\n\u001b[32m   1350\u001b[39m     renderer = \u001b[38;5;28mself\u001b[39m.get_figure(root=\u001b[38;5;28;01mTrue\u001b[39;00m)._get_renderer()\n\u001b[32m-> \u001b[39m\u001b[32m1351\u001b[39m ticks_to_draw = \u001b[38;5;28;43mself\u001b[39;49m\u001b[43m.\u001b[49m\u001b[43m_update_ticks\u001b[49m\u001b[43m(\u001b[49m\u001b[43m)\u001b[49m\n\u001b[32m   1353\u001b[39m \u001b[38;5;28mself\u001b[39m._update_label_position(renderer)\n\u001b[32m   1355\u001b[39m \u001b[38;5;66;03m# go back to just this axis's tick labels\u001b[39;00m\n",
            "\u001b[36mFile \u001b[39m\u001b[32m~/miniconda3/envs/ddi/lib/python3.12/site-packages/matplotlib/axis.py:1281\u001b[39m, in \u001b[36mAxis._update_ticks\u001b[39m\u001b[34m(self)\u001b[39m\n\u001b[32m   1276\u001b[39m \u001b[38;5;28;01mdef\u001b[39;00m\u001b[38;5;250m \u001b[39m\u001b[34m_update_ticks\u001b[39m(\u001b[38;5;28mself\u001b[39m):\n\u001b[32m   1277\u001b[39m \u001b[38;5;250m    \u001b[39m\u001b[33;03m\"\"\"\u001b[39;00m\n\u001b[32m   1278\u001b[39m \u001b[33;03m    Update ticks (position and labels) using the current data interval of\u001b[39;00m\n\u001b[32m   1279\u001b[39m \u001b[33;03m    the axes.  Return the list of ticks that will be drawn.\u001b[39;00m\n\u001b[32m   1280\u001b[39m \u001b[33;03m    \"\"\"\u001b[39;00m\n\u001b[32m-> \u001b[39m\u001b[32m1281\u001b[39m     major_locs = \u001b[38;5;28;43mself\u001b[39;49m\u001b[43m.\u001b[49m\u001b[43mget_majorticklocs\u001b[49m\u001b[43m(\u001b[49m\u001b[43m)\u001b[49m\n\u001b[32m   1282\u001b[39m     major_labels = \u001b[38;5;28mself\u001b[39m.major.formatter.format_ticks(major_locs)\n\u001b[32m   1283\u001b[39m     major_ticks = \u001b[38;5;28mself\u001b[39m.get_major_ticks(\u001b[38;5;28mlen\u001b[39m(major_locs))\n",
            "\u001b[36mFile \u001b[39m\u001b[32m~/miniconda3/envs/ddi/lib/python3.12/site-packages/matplotlib/axis.py:1525\u001b[39m, in \u001b[36mAxis.get_majorticklocs\u001b[39m\u001b[34m(self)\u001b[39m\n\u001b[32m   1523\u001b[39m \u001b[38;5;28;01mdef\u001b[39;00m\u001b[38;5;250m \u001b[39m\u001b[34mget_majorticklocs\u001b[39m(\u001b[38;5;28mself\u001b[39m):\n\u001b[32m   1524\u001b[39m \u001b[38;5;250m    \u001b[39m\u001b[33;03m\"\"\"Return this Axis' major tick locations in data coordinates.\"\"\"\u001b[39;00m\n\u001b[32m-> \u001b[39m\u001b[32m1525\u001b[39m     \u001b[38;5;28;01mreturn\u001b[39;00m \u001b[38;5;28;43mself\u001b[39;49m\u001b[43m.\u001b[49m\u001b[43mmajor\u001b[49m\u001b[43m.\u001b[49m\u001b[43mlocator\u001b[49m\u001b[43m(\u001b[49m\u001b[43m)\u001b[49m\n",
            "\u001b[36mFile \u001b[39m\u001b[32m~/miniconda3/envs/ddi/lib/python3.12/site-packages/matplotlib/ticker.py:2401\u001b[39m, in \u001b[36mLogLocator.__call__\u001b[39m\u001b[34m(self)\u001b[39m\n\u001b[32m   2399\u001b[39m \u001b[38;5;250m\u001b[39m\u001b[33;03m\"\"\"Return the locations of the ticks.\"\"\"\u001b[39;00m\n\u001b[32m   2400\u001b[39m vmin, vmax = \u001b[38;5;28mself\u001b[39m.axis.get_view_interval()\n\u001b[32m-> \u001b[39m\u001b[32m2401\u001b[39m \u001b[38;5;28;01mreturn\u001b[39;00m \u001b[38;5;28;43mself\u001b[39;49m\u001b[43m.\u001b[49m\u001b[43mtick_values\u001b[49m\u001b[43m(\u001b[49m\u001b[43mvmin\u001b[49m\u001b[43m,\u001b[49m\u001b[43m \u001b[49m\u001b[43mvmax\u001b[49m\u001b[43m)\u001b[49m\n",
            "\u001b[36mFile \u001b[39m\u001b[32m~/miniconda3/envs/ddi/lib/python3.12/site-packages/matplotlib/ticker.py:2418\u001b[39m, in \u001b[36mLogLocator.tick_values\u001b[39m\u001b[34m(self, vmin, vmax)\u001b[39m\n\u001b[32m   2415\u001b[39m         vmin = \u001b[38;5;28mself\u001b[39m.axis.get_minpos()\n\u001b[32m   2417\u001b[39m     \u001b[38;5;28;01mif\u001b[39;00m vmin <= \u001b[32m0.0\u001b[39m \u001b[38;5;129;01mor\u001b[39;00m \u001b[38;5;129;01mnot\u001b[39;00m np.isfinite(vmin):\n\u001b[32m-> \u001b[39m\u001b[32m2418\u001b[39m         \u001b[38;5;28;01mraise\u001b[39;00m \u001b[38;5;167;01mValueError\u001b[39;00m(\n\u001b[32m   2419\u001b[39m             \u001b[33m\"\u001b[39m\u001b[33mData has no positive values, and therefore cannot be log-scaled.\u001b[39m\u001b[33m\"\u001b[39m)\n\u001b[32m   2421\u001b[39m _log.debug(\u001b[33m'\u001b[39m\u001b[33mvmin \u001b[39m\u001b[38;5;132;01m%s\u001b[39;00m\u001b[33m vmax \u001b[39m\u001b[38;5;132;01m%s\u001b[39;00m\u001b[33m'\u001b[39m, vmin, vmax)\n\u001b[32m   2423\u001b[39m \u001b[38;5;28;01mif\u001b[39;00m vmax < vmin:\n",
            "\u001b[31mValueError\u001b[39m: Data has no positive values, and therefore cannot be log-scaled."
          ]
        },
        {
          "ename": "ValueError",
          "evalue": "Data has no positive values, and therefore cannot be log-scaled.",
          "output_type": "error",
          "traceback": [
            "\u001b[31m---------------------------------------------------------------------------\u001b[39m",
            "\u001b[31mValueError\u001b[39m                                Traceback (most recent call last)",
            "\u001b[36mFile \u001b[39m\u001b[32m~/miniconda3/envs/ddi/lib/python3.12/site-packages/IPython/core/formatters.py:402\u001b[39m, in \u001b[36mBaseFormatter.__call__\u001b[39m\u001b[34m(self, obj)\u001b[39m\n\u001b[32m    400\u001b[39m     \u001b[38;5;28;01mpass\u001b[39;00m\n\u001b[32m    401\u001b[39m \u001b[38;5;28;01melse\u001b[39;00m:\n\u001b[32m--> \u001b[39m\u001b[32m402\u001b[39m     \u001b[38;5;28;01mreturn\u001b[39;00m \u001b[43mprinter\u001b[49m\u001b[43m(\u001b[49m\u001b[43mobj\u001b[49m\u001b[43m)\u001b[49m\n\u001b[32m    403\u001b[39m \u001b[38;5;66;03m# Finally look for special method names\u001b[39;00m\n\u001b[32m    404\u001b[39m method = get_real_method(obj, \u001b[38;5;28mself\u001b[39m.print_method)\n",
            "\u001b[36mFile \u001b[39m\u001b[32m~/miniconda3/envs/ddi/lib/python3.12/site-packages/IPython/core/pylabtools.py:170\u001b[39m, in \u001b[36mprint_figure\u001b[39m\u001b[34m(fig, fmt, bbox_inches, base64, **kwargs)\u001b[39m\n\u001b[32m    167\u001b[39m     \u001b[38;5;28;01mfrom\u001b[39;00m\u001b[38;5;250m \u001b[39m\u001b[34;01mmatplotlib\u001b[39;00m\u001b[34;01m.\u001b[39;00m\u001b[34;01mbackend_bases\u001b[39;00m\u001b[38;5;250m \u001b[39m\u001b[38;5;28;01mimport\u001b[39;00m FigureCanvasBase\n\u001b[32m    168\u001b[39m     FigureCanvasBase(fig)\n\u001b[32m--> \u001b[39m\u001b[32m170\u001b[39m \u001b[43mfig\u001b[49m\u001b[43m.\u001b[49m\u001b[43mcanvas\u001b[49m\u001b[43m.\u001b[49m\u001b[43mprint_figure\u001b[49m\u001b[43m(\u001b[49m\u001b[43mbytes_io\u001b[49m\u001b[43m,\u001b[49m\u001b[43m \u001b[49m\u001b[43m*\u001b[49m\u001b[43m*\u001b[49m\u001b[43mkw\u001b[49m\u001b[43m)\u001b[49m\n\u001b[32m    171\u001b[39m data = bytes_io.getvalue()\n\u001b[32m    172\u001b[39m \u001b[38;5;28;01mif\u001b[39;00m fmt == \u001b[33m'\u001b[39m\u001b[33msvg\u001b[39m\u001b[33m'\u001b[39m:\n",
            "\u001b[36mFile \u001b[39m\u001b[32m~/miniconda3/envs/ddi/lib/python3.12/site-packages/matplotlib/backend_bases.py:2155\u001b[39m, in \u001b[36mFigureCanvasBase.print_figure\u001b[39m\u001b[34m(self, filename, dpi, facecolor, edgecolor, orientation, format, bbox_inches, pad_inches, bbox_extra_artists, backend, **kwargs)\u001b[39m\n\u001b[32m   2152\u001b[39m     \u001b[38;5;66;03m# we do this instead of `self.figure.draw_without_rendering`\u001b[39;00m\n\u001b[32m   2153\u001b[39m     \u001b[38;5;66;03m# so that we can inject the orientation\u001b[39;00m\n\u001b[32m   2154\u001b[39m     \u001b[38;5;28;01mwith\u001b[39;00m \u001b[38;5;28mgetattr\u001b[39m(renderer, \u001b[33m\"\u001b[39m\u001b[33m_draw_disabled\u001b[39m\u001b[33m\"\u001b[39m, nullcontext)():\n\u001b[32m-> \u001b[39m\u001b[32m2155\u001b[39m         \u001b[38;5;28;43mself\u001b[39;49m\u001b[43m.\u001b[49m\u001b[43mfigure\u001b[49m\u001b[43m.\u001b[49m\u001b[43mdraw\u001b[49m\u001b[43m(\u001b[49m\u001b[43mrenderer\u001b[49m\u001b[43m)\u001b[49m\n\u001b[32m   2156\u001b[39m \u001b[38;5;28;01mif\u001b[39;00m bbox_inches:\n\u001b[32m   2157\u001b[39m     \u001b[38;5;28;01mif\u001b[39;00m bbox_inches == \u001b[33m\"\u001b[39m\u001b[33mtight\u001b[39m\u001b[33m\"\u001b[39m:\n",
            "\u001b[36mFile \u001b[39m\u001b[32m~/miniconda3/envs/ddi/lib/python3.12/site-packages/matplotlib/artist.py:94\u001b[39m, in \u001b[36m_finalize_rasterization.<locals>.draw_wrapper\u001b[39m\u001b[34m(artist, renderer, *args, **kwargs)\u001b[39m\n\u001b[32m     92\u001b[39m \u001b[38;5;129m@wraps\u001b[39m(draw)\n\u001b[32m     93\u001b[39m \u001b[38;5;28;01mdef\u001b[39;00m\u001b[38;5;250m \u001b[39m\u001b[34mdraw_wrapper\u001b[39m(artist, renderer, *args, **kwargs):\n\u001b[32m---> \u001b[39m\u001b[32m94\u001b[39m     result = \u001b[43mdraw\u001b[49m\u001b[43m(\u001b[49m\u001b[43martist\u001b[49m\u001b[43m,\u001b[49m\u001b[43m \u001b[49m\u001b[43mrenderer\u001b[49m\u001b[43m,\u001b[49m\u001b[43m \u001b[49m\u001b[43m*\u001b[49m\u001b[43margs\u001b[49m\u001b[43m,\u001b[49m\u001b[43m \u001b[49m\u001b[43m*\u001b[49m\u001b[43m*\u001b[49m\u001b[43mkwargs\u001b[49m\u001b[43m)\u001b[49m\n\u001b[32m     95\u001b[39m     \u001b[38;5;28;01mif\u001b[39;00m renderer._rasterizing:\n\u001b[32m     96\u001b[39m         renderer.stop_rasterizing()\n",
            "\u001b[36mFile \u001b[39m\u001b[32m~/miniconda3/envs/ddi/lib/python3.12/site-packages/matplotlib/artist.py:71\u001b[39m, in \u001b[36mallow_rasterization.<locals>.draw_wrapper\u001b[39m\u001b[34m(artist, renderer)\u001b[39m\n\u001b[32m     68\u001b[39m     \u001b[38;5;28;01mif\u001b[39;00m artist.get_agg_filter() \u001b[38;5;129;01mis\u001b[39;00m \u001b[38;5;129;01mnot\u001b[39;00m \u001b[38;5;28;01mNone\u001b[39;00m:\n\u001b[32m     69\u001b[39m         renderer.start_filter()\n\u001b[32m---> \u001b[39m\u001b[32m71\u001b[39m     \u001b[38;5;28;01mreturn\u001b[39;00m \u001b[43mdraw\u001b[49m\u001b[43m(\u001b[49m\u001b[43martist\u001b[49m\u001b[43m,\u001b[49m\u001b[43m \u001b[49m\u001b[43mrenderer\u001b[49m\u001b[43m)\u001b[49m\n\u001b[32m     72\u001b[39m \u001b[38;5;28;01mfinally\u001b[39;00m:\n\u001b[32m     73\u001b[39m     \u001b[38;5;28;01mif\u001b[39;00m artist.get_agg_filter() \u001b[38;5;129;01mis\u001b[39;00m \u001b[38;5;129;01mnot\u001b[39;00m \u001b[38;5;28;01mNone\u001b[39;00m:\n",
            "\u001b[36mFile \u001b[39m\u001b[32m~/miniconda3/envs/ddi/lib/python3.12/site-packages/matplotlib/figure.py:3257\u001b[39m, in \u001b[36mFigure.draw\u001b[39m\u001b[34m(self, renderer)\u001b[39m\n\u001b[32m   3254\u001b[39m             \u001b[38;5;66;03m# ValueError can occur when resizing a window.\u001b[39;00m\n\u001b[32m   3256\u001b[39m     \u001b[38;5;28mself\u001b[39m.patch.draw(renderer)\n\u001b[32m-> \u001b[39m\u001b[32m3257\u001b[39m     \u001b[43mmimage\u001b[49m\u001b[43m.\u001b[49m\u001b[43m_draw_list_compositing_images\u001b[49m\u001b[43m(\u001b[49m\n\u001b[32m   3258\u001b[39m \u001b[43m        \u001b[49m\u001b[43mrenderer\u001b[49m\u001b[43m,\u001b[49m\u001b[43m \u001b[49m\u001b[38;5;28;43mself\u001b[39;49m\u001b[43m,\u001b[49m\u001b[43m \u001b[49m\u001b[43martists\u001b[49m\u001b[43m,\u001b[49m\u001b[43m \u001b[49m\u001b[38;5;28;43mself\u001b[39;49m\u001b[43m.\u001b[49m\u001b[43msuppressComposite\u001b[49m\u001b[43m)\u001b[49m\n\u001b[32m   3260\u001b[39m     renderer.close_group(\u001b[33m'\u001b[39m\u001b[33mfigure\u001b[39m\u001b[33m'\u001b[39m)\n\u001b[32m   3261\u001b[39m \u001b[38;5;28;01mfinally\u001b[39;00m:\n",
            "\u001b[36mFile \u001b[39m\u001b[32m~/miniconda3/envs/ddi/lib/python3.12/site-packages/matplotlib/image.py:134\u001b[39m, in \u001b[36m_draw_list_compositing_images\u001b[39m\u001b[34m(renderer, parent, artists, suppress_composite)\u001b[39m\n\u001b[32m    132\u001b[39m \u001b[38;5;28;01mif\u001b[39;00m not_composite \u001b[38;5;129;01mor\u001b[39;00m \u001b[38;5;129;01mnot\u001b[39;00m has_images:\n\u001b[32m    133\u001b[39m     \u001b[38;5;28;01mfor\u001b[39;00m a \u001b[38;5;129;01min\u001b[39;00m artists:\n\u001b[32m--> \u001b[39m\u001b[32m134\u001b[39m         \u001b[43ma\u001b[49m\u001b[43m.\u001b[49m\u001b[43mdraw\u001b[49m\u001b[43m(\u001b[49m\u001b[43mrenderer\u001b[49m\u001b[43m)\u001b[49m\n\u001b[32m    135\u001b[39m \u001b[38;5;28;01melse\u001b[39;00m:\n\u001b[32m    136\u001b[39m     \u001b[38;5;66;03m# Composite any adjacent images together\u001b[39;00m\n\u001b[32m    137\u001b[39m     image_group = []\n",
            "\u001b[36mFile \u001b[39m\u001b[32m~/miniconda3/envs/ddi/lib/python3.12/site-packages/matplotlib/artist.py:71\u001b[39m, in \u001b[36mallow_rasterization.<locals>.draw_wrapper\u001b[39m\u001b[34m(artist, renderer)\u001b[39m\n\u001b[32m     68\u001b[39m     \u001b[38;5;28;01mif\u001b[39;00m artist.get_agg_filter() \u001b[38;5;129;01mis\u001b[39;00m \u001b[38;5;129;01mnot\u001b[39;00m \u001b[38;5;28;01mNone\u001b[39;00m:\n\u001b[32m     69\u001b[39m         renderer.start_filter()\n\u001b[32m---> \u001b[39m\u001b[32m71\u001b[39m     \u001b[38;5;28;01mreturn\u001b[39;00m \u001b[43mdraw\u001b[49m\u001b[43m(\u001b[49m\u001b[43martist\u001b[49m\u001b[43m,\u001b[49m\u001b[43m \u001b[49m\u001b[43mrenderer\u001b[49m\u001b[43m)\u001b[49m\n\u001b[32m     72\u001b[39m \u001b[38;5;28;01mfinally\u001b[39;00m:\n\u001b[32m     73\u001b[39m     \u001b[38;5;28;01mif\u001b[39;00m artist.get_agg_filter() \u001b[38;5;129;01mis\u001b[39;00m \u001b[38;5;129;01mnot\u001b[39;00m \u001b[38;5;28;01mNone\u001b[39;00m:\n",
            "\u001b[36mFile \u001b[39m\u001b[32m~/miniconda3/envs/ddi/lib/python3.12/site-packages/matplotlib/axes/_base.py:3174\u001b[39m, in \u001b[36m_AxesBase.draw\u001b[39m\u001b[34m(self, renderer)\u001b[39m\n\u001b[32m   3171\u001b[39m     \u001b[38;5;28;01mfor\u001b[39;00m spine \u001b[38;5;129;01min\u001b[39;00m \u001b[38;5;28mself\u001b[39m.spines.values():\n\u001b[32m   3172\u001b[39m         artists.remove(spine)\n\u001b[32m-> \u001b[39m\u001b[32m3174\u001b[39m \u001b[38;5;28;43mself\u001b[39;49m\u001b[43m.\u001b[49m\u001b[43m_update_title_position\u001b[49m\u001b[43m(\u001b[49m\u001b[43mrenderer\u001b[49m\u001b[43m)\u001b[49m\n\u001b[32m   3176\u001b[39m \u001b[38;5;28;01mif\u001b[39;00m \u001b[38;5;129;01mnot\u001b[39;00m \u001b[38;5;28mself\u001b[39m.axison:\n\u001b[32m   3177\u001b[39m     \u001b[38;5;28;01mfor\u001b[39;00m _axis \u001b[38;5;129;01min\u001b[39;00m \u001b[38;5;28mself\u001b[39m._axis_map.values():\n",
            "\u001b[36mFile \u001b[39m\u001b[32m~/miniconda3/envs/ddi/lib/python3.12/site-packages/matplotlib/axes/_base.py:3118\u001b[39m, in \u001b[36m_AxesBase._update_title_position\u001b[39m\u001b[34m(self, renderer)\u001b[39m\n\u001b[32m   3116\u001b[39m \u001b[38;5;28;01mif\u001b[39;00m title.get_text():\n\u001b[32m   3117\u001b[39m     \u001b[38;5;28;01mfor\u001b[39;00m ax \u001b[38;5;129;01min\u001b[39;00m axs:\n\u001b[32m-> \u001b[39m\u001b[32m3118\u001b[39m         \u001b[43max\u001b[49m\u001b[43m.\u001b[49m\u001b[43myaxis\u001b[49m\u001b[43m.\u001b[49m\u001b[43mget_tightbbox\u001b[49m\u001b[43m(\u001b[49m\u001b[43mrenderer\u001b[49m\u001b[43m)\u001b[49m  \u001b[38;5;66;03m# update offsetText\u001b[39;00m\n\u001b[32m   3119\u001b[39m         \u001b[38;5;28;01mif\u001b[39;00m ax.yaxis.offsetText.get_text():\n\u001b[32m   3120\u001b[39m             bb = ax.yaxis.offsetText.get_tightbbox(renderer)\n",
            "\u001b[36mFile \u001b[39m\u001b[32m~/miniconda3/envs/ddi/lib/python3.12/site-packages/matplotlib/axis.py:1351\u001b[39m, in \u001b[36mAxis.get_tightbbox\u001b[39m\u001b[34m(self, renderer, for_layout_only)\u001b[39m\n\u001b[32m   1349\u001b[39m \u001b[38;5;28;01mif\u001b[39;00m renderer \u001b[38;5;129;01mis\u001b[39;00m \u001b[38;5;28;01mNone\u001b[39;00m:\n\u001b[32m   1350\u001b[39m     renderer = \u001b[38;5;28mself\u001b[39m.get_figure(root=\u001b[38;5;28;01mTrue\u001b[39;00m)._get_renderer()\n\u001b[32m-> \u001b[39m\u001b[32m1351\u001b[39m ticks_to_draw = \u001b[38;5;28;43mself\u001b[39;49m\u001b[43m.\u001b[49m\u001b[43m_update_ticks\u001b[49m\u001b[43m(\u001b[49m\u001b[43m)\u001b[49m\n\u001b[32m   1353\u001b[39m \u001b[38;5;28mself\u001b[39m._update_label_position(renderer)\n\u001b[32m   1355\u001b[39m \u001b[38;5;66;03m# go back to just this axis's tick labels\u001b[39;00m\n",
            "\u001b[36mFile \u001b[39m\u001b[32m~/miniconda3/envs/ddi/lib/python3.12/site-packages/matplotlib/axis.py:1281\u001b[39m, in \u001b[36mAxis._update_ticks\u001b[39m\u001b[34m(self)\u001b[39m\n\u001b[32m   1276\u001b[39m \u001b[38;5;28;01mdef\u001b[39;00m\u001b[38;5;250m \u001b[39m\u001b[34m_update_ticks\u001b[39m(\u001b[38;5;28mself\u001b[39m):\n\u001b[32m   1277\u001b[39m \u001b[38;5;250m    \u001b[39m\u001b[33;03m\"\"\"\u001b[39;00m\n\u001b[32m   1278\u001b[39m \u001b[33;03m    Update ticks (position and labels) using the current data interval of\u001b[39;00m\n\u001b[32m   1279\u001b[39m \u001b[33;03m    the axes.  Return the list of ticks that will be drawn.\u001b[39;00m\n\u001b[32m   1280\u001b[39m \u001b[33;03m    \"\"\"\u001b[39;00m\n\u001b[32m-> \u001b[39m\u001b[32m1281\u001b[39m     major_locs = \u001b[38;5;28;43mself\u001b[39;49m\u001b[43m.\u001b[49m\u001b[43mget_majorticklocs\u001b[49m\u001b[43m(\u001b[49m\u001b[43m)\u001b[49m\n\u001b[32m   1282\u001b[39m     major_labels = \u001b[38;5;28mself\u001b[39m.major.formatter.format_ticks(major_locs)\n\u001b[32m   1283\u001b[39m     major_ticks = \u001b[38;5;28mself\u001b[39m.get_major_ticks(\u001b[38;5;28mlen\u001b[39m(major_locs))\n",
            "\u001b[36mFile \u001b[39m\u001b[32m~/miniconda3/envs/ddi/lib/python3.12/site-packages/matplotlib/axis.py:1525\u001b[39m, in \u001b[36mAxis.get_majorticklocs\u001b[39m\u001b[34m(self)\u001b[39m\n\u001b[32m   1523\u001b[39m \u001b[38;5;28;01mdef\u001b[39;00m\u001b[38;5;250m \u001b[39m\u001b[34mget_majorticklocs\u001b[39m(\u001b[38;5;28mself\u001b[39m):\n\u001b[32m   1524\u001b[39m \u001b[38;5;250m    \u001b[39m\u001b[33;03m\"\"\"Return this Axis' major tick locations in data coordinates.\"\"\"\u001b[39;00m\n\u001b[32m-> \u001b[39m\u001b[32m1525\u001b[39m     \u001b[38;5;28;01mreturn\u001b[39;00m \u001b[38;5;28;43mself\u001b[39;49m\u001b[43m.\u001b[49m\u001b[43mmajor\u001b[49m\u001b[43m.\u001b[49m\u001b[43mlocator\u001b[49m\u001b[43m(\u001b[49m\u001b[43m)\u001b[49m\n",
            "\u001b[36mFile \u001b[39m\u001b[32m~/miniconda3/envs/ddi/lib/python3.12/site-packages/matplotlib/ticker.py:2401\u001b[39m, in \u001b[36mLogLocator.__call__\u001b[39m\u001b[34m(self)\u001b[39m\n\u001b[32m   2399\u001b[39m \u001b[38;5;250m\u001b[39m\u001b[33;03m\"\"\"Return the locations of the ticks.\"\"\"\u001b[39;00m\n\u001b[32m   2400\u001b[39m vmin, vmax = \u001b[38;5;28mself\u001b[39m.axis.get_view_interval()\n\u001b[32m-> \u001b[39m\u001b[32m2401\u001b[39m \u001b[38;5;28;01mreturn\u001b[39;00m \u001b[38;5;28;43mself\u001b[39;49m\u001b[43m.\u001b[49m\u001b[43mtick_values\u001b[49m\u001b[43m(\u001b[49m\u001b[43mvmin\u001b[49m\u001b[43m,\u001b[49m\u001b[43m \u001b[49m\u001b[43mvmax\u001b[49m\u001b[43m)\u001b[49m\n",
            "\u001b[36mFile \u001b[39m\u001b[32m~/miniconda3/envs/ddi/lib/python3.12/site-packages/matplotlib/ticker.py:2418\u001b[39m, in \u001b[36mLogLocator.tick_values\u001b[39m\u001b[34m(self, vmin, vmax)\u001b[39m\n\u001b[32m   2415\u001b[39m         vmin = \u001b[38;5;28mself\u001b[39m.axis.get_minpos()\n\u001b[32m   2417\u001b[39m     \u001b[38;5;28;01mif\u001b[39;00m vmin <= \u001b[32m0.0\u001b[39m \u001b[38;5;129;01mor\u001b[39;00m \u001b[38;5;129;01mnot\u001b[39;00m np.isfinite(vmin):\n\u001b[32m-> \u001b[39m\u001b[32m2418\u001b[39m         \u001b[38;5;28;01mraise\u001b[39;00m \u001b[38;5;167;01mValueError\u001b[39;00m(\n\u001b[32m   2419\u001b[39m             \u001b[33m\"\u001b[39m\u001b[33mData has no positive values, and therefore cannot be log-scaled.\u001b[39m\u001b[33m\"\u001b[39m)\n\u001b[32m   2421\u001b[39m _log.debug(\u001b[33m'\u001b[39m\u001b[33mvmin \u001b[39m\u001b[38;5;132;01m%s\u001b[39;00m\u001b[33m vmax \u001b[39m\u001b[38;5;132;01m%s\u001b[39;00m\u001b[33m'\u001b[39m, vmin, vmax)\n\u001b[32m   2423\u001b[39m \u001b[38;5;28;01mif\u001b[39;00m vmax < vmin:\n",
            "\u001b[31mValueError\u001b[39m: Data has no positive values, and therefore cannot be log-scaled."
          ]
        },
        {
          "data": {
            "text/plain": [
              "<Figure size 1000x600 with 1 Axes>"
            ]
          },
          "metadata": {},
          "output_type": "display_data"
        }
      ],
      "source": [
        "# Node types to analyze\n",
        "key_node_types = [\"drug\", \"disease\", \"protein\"]\n",
        "\n",
        "for node_type in key_node_types:\n",
        "    # Get degree distribution for this node type\n",
        "    type_dist = analyzer.get_degree_distribution(node_type=node_type)\n",
        "    \n",
        "    # Plot degree distribution\n",
        "    fig = visualizer.plot_degree_distribution(\n",
        "        type_dist[\"degree\"],\n",
        "        log_scale=True,\n",
        "        title=f\"{node_type.capitalize()} Degree Distribution (log-log scale)\",\n",
        "        save_path=f\"{node_type}_degree_distribution_log.png\"\n",
        "    )\n",
        "    plt.show()"
      ]
    },
    {
      "cell_type": "markdown",
      "metadata": {},
      "source": [
        "## 2. Centrality Analysis\n",
        "\n",
        "Now let's identify the most central nodes in our knowledge graph using different centrality measures."
      ]
    },
    {
      "cell_type": "markdown",
      "metadata": {},
      "source": [
        "### Degree Centrality\n",
        "\n",
        "Let's find the most connected nodes in the graph."
      ]
    },
    {
      "cell_type": "code",
      "execution_count": null,
      "metadata": {},
      "outputs": [],
      "source": [
        "# Calculate degree centrality for all nodes\n",
        "degree_cent = analyzer.calculate_centrality(centrality_type=\"degree\", top_n=20)\n",
        "\n",
        "# Display results\n",
        "display(degree_cent)\n",
        "\n",
        "# Visualize top results\n",
        "fig = visualizer.plot_centrality_distribution(\n",
        "    degree_cent, \n",
        "    top_n=20,\n",
        "    title=\"Top 20 Nodes by Degree Centrality\",\n",
        "    save_path=\"degree_centrality_top20.png\"\n",
        ")\n",
        "plt.show()"
      ]
    },
    {
      "cell_type": "markdown",
      "metadata": {},
      "source": [
        "Let's look at the most central drugs and diseases specifically."
      ]
    },
    {
      "cell_type": "code",
      "execution_count": null,
      "metadata": {},
      "outputs": [],
      "source": [
        "# Calculate degree centrality for drugs\n",
        "drug_cent = analyzer.calculate_centrality(centrality_type=\"degree\", node_types=[\"drug\"], top_n=10)\n",
        "\n",
        "# Display results\n",
        "print(\"Top 10 drugs by degree centrality:\")\n",
        "display(drug_cent)\n",
        "\n",
        "# Visualize\n",
        "fig = visualizer.plot_centrality_distribution(\n",
        "    drug_cent, \n",
        "    title=\"Top 10 Drugs by Degree Centrality\",\n",
        "    save_path=\"drug_degree_centrality.png\"\n",
        ")\n",
        "plt.show()"
      ]
    },
    {
      "cell_type": "code",
      "execution_count": null,
      "metadata": {},
      "outputs": [],
      "source": [
        "# Calculate degree centrality for diseases\n",
        "disease_cent = analyzer.calculate_centrality(centrality_type=\"degree\", node_types=[\"disease\"], top_n=10)\n",
        "\n",
        "# Display results\n",
        "print(\"Top 10 diseases by degree centrality:\")\n",
        "display(disease_cent)\n",
        "\n",
        "# Visualize\n",
        "fig = visualizer.plot_centrality_distribution(\n",
        "    disease_cent, \n",
        "    title=\"Top 10 Diseases by Degree Centrality\",\n",
        "    save_path=\"disease_degree_centrality.png\"\n",
        ")\n",
        "plt.show()"
      ]
    },
    {
      "cell_type": "markdown",
      "metadata": {},
      "source": [
        "### Betweenness Centrality\n",
        "\n",
        "Let's identify nodes that act as bridges in the network."
      ]
    },
    {
      "cell_type": "code",
      "execution_count": null,
      "metadata": {},
      "outputs": [],
      "source": [
        "# Calculate betweenness centrality\n",
        "between_cent = analyzer.calculate_centrality(centrality_type=\"betweenness\", top_n=20)\n",
        "\n",
        "# Display results\n",
        "print(\"Top 20 nodes by betweenness centrality:\")\n",
        "display(between_cent)\n",
        "\n",
        "# Visualize\n",
        "fig = visualizer.plot_centrality_distribution(\n",
        "    between_cent, \n",
        "    title=\"Top 20 Nodes by Betweenness Centrality\",\n",
        "    save_path=\"betweenness_centrality.png\"\n",
        ")\n",
        "plt.show()"
      ]
    },
    {
      "cell_type": "markdown",
      "metadata": {},
      "source": [
        "### PageRank\n",
        "\n",
        "Let's use PageRank to identify influential nodes."
      ]
    },
    {
      "cell_type": "code",
      "execution_count": null,
      "metadata": {},
      "outputs": [],
      "source": [
        "# Calculate PageRank centrality\n",
        "pagerank = analyzer.calculate_centrality(centrality_type=\"pagerank\", top_n=20)\n",
        "\n",
        "# Display results\n",
        "print(\"Top 20 nodes by PageRank:\")\n",
        "display(pagerank)\n",
        "\n",
        "# Visualize\n",
        "fig = visualizer.plot_centrality_distribution(\n",
        "    pagerank, \n",
        "    title=\"Top 20 Nodes by PageRank\",\n",
        "    save_path=\"pagerank.png\"\n",
        ")\n",
        "plt.show()"
      ]
    },
    {
      "cell_type": "markdown",
      "metadata": {},
      "source": [
        "## 3. Community Detection\n",
        "\n",
        "Let's identify communities in the knowledge graph."
      ]
    },
    {
      "cell_type": "code",
      "execution_count": null,
      "metadata": {},
      "outputs": [],
      "source": [
        "# Detect communities\n",
        "communities = analyzer.detect_communities(resolution=1.0)\n",
        "\n",
        "# Print summary\n",
        "print(f\"Detected {communities['num_communities']} communities with modularity {communities['modularity']:.4f}\")\n",
        "\n",
        "# Display statistics for top 5 communities\n",
        "top_communities = communities[\"communities\"][:5]\n",
        "\n",
        "print(\"\\nTop 5 communities:\")\n",
        "for i, comm in enumerate(top_communities):\n",
        "    print(f\"\\nCommunity {i+1} (ID: {comm['community_id']})\")\n",
        "    print(f\"Size: {comm['size']} nodes ({comm['percentage']:.2f}% of total)\")\n",
        "    print(f\"Density: {comm['density']:.4f}\")\n",
        "    print(f\"Node types: {comm['node_types']}\")\n",
        "    print(f\"Key nodes: {[n['name'] for n in comm['key_nodes'][:3]]}\")"
      ]
    },
    {
      "cell_type": "code",
      "execution_count": null,
      "metadata": {},
      "outputs": [],
      "source": [
        "# Visualize community size distribution\n",
        "fig = visualizer.plot_community_distribution(\n",
        "    communities, \n",
        "    top_n=10,\n",
        "    title=\"Top 10 Communities by Size\",\n",
        "    save_path=\"community_sizes.png\"\n",
        ")\n",
        "plt.show()"
      ]
    },
    {
      "cell_type": "code",
      "execution_count": null,
      "metadata": {},
      "outputs": [],
      "source": [
        "# Visualize community composition\n",
        "fig = visualizer.plot_community_composition(\n",
        "    communities, \n",
        "    top_n=5,\n",
        "    title=\"Node Type Composition of Top 5 Communities\",\n",
        "    save_path=\"community_composition.png\"\n",
        ")\n",
        "plt.show()"
      ]
    },
    {
      "cell_type": "markdown",
      "metadata": {},
      "source": [
        "## 4. Path Analysis\n",
        "\n",
        "Let's analyze paths between drugs and diseases in the knowledge graph."
      ]
    },
    {
      "cell_type": "markdown",
      "metadata": {},
      "source": [
        "### Find Shortest Paths between Drugs and Diseases"
      ]
    },
    {
      "cell_type": "code",
      "execution_count": null,
      "metadata": {},
      "outputs": [],
      "source": [
        "# Find shortest paths from drugs to diseases\n",
        "paths = analyzer.find_shortest_paths(source_type=\"drug\", target_type=\"disease\", max_paths=10)\n",
        "\n",
        "# Display summary of paths\n",
        "print(f\"Found {len(paths)} paths from drugs to diseases\")\n",
        "\n",
        "# Create a table of paths\n",
        "path_data = []\n",
        "for path in paths:\n",
        "    path_data.append({\n",
        "        \"Source\": path[\"source_name\"],\n",
        "        \"Target\": path[\"target_name\"],\n",
        "        \"Length\": path[\"length\"],\n",
        "        \"Path\": \" -> \".join(path[\"path_names\"])\n",
        "    })\n",
        "\n",
        "path_df = pd.DataFrame(path_data)\n",
        "display(path_df)"
      ]
    },
    {
      "cell_type": "markdown",
      "metadata": {},
      "source": [
        "### Visualize a Specific Path"
      ]
    },
    {
      "cell_type": "code",
      "execution_count": null,
      "metadata": {},
      "outputs": [],
      "source": [
        "# Select a path to visualize (the shortest one)\n",
        "if paths:\n",
        "    shortest_path = min(paths, key=lambda x: x[\"length\"])\n",
        "    print(f\"Visualizing path from {shortest_path['source_name']} to {shortest_path['target_name']}\")\n",
        "    print(f\"Path length: {shortest_path['length']}\")\n",
        "    print(f\"Path: {' -> '.join(shortest_path['path_names'])}\")\n",
        "    \n",
        "    # Visualize the path\n",
        "    fig = visualizer.visualize_path(\n",
        "        shortest_path,\n",
        "        save_path=\"shortest_drug_disease_path.png\"\n",
        "    )\n",
        "    plt.show()\n",
        "else:\n",
        "    print(\"No paths found\")"
      ]
    },
    {
      "cell_type": "markdown",
      "metadata": {},
      "source": [
        "### Find Paths for a Specific Drug-Disease Pair\n",
        "\n",
        "Let's pick one of the most central drugs and diseases and find all paths between them."
      ]
    },
    {
      "cell_type": "code",
      "execution_count": null,
      "metadata": {},
      "outputs": [],
      "source": [
        "# Get top drug and disease IDs\n",
        "if len(drug_cent) > 0 and len(disease_cent) > 0:\n",
        "    top_drug_id = drug_cent.iloc[0][\"node_id\"]\n",
        "    top_drug_name = drug_cent.iloc[0][\"name\"]\n",
        "    top_disease_id = disease_cent.iloc[0][\"node_id\"]\n",
        "    top_disease_name = disease_cent.iloc[0][\"name\"]\n",
        "    \n",
        "    print(f\"Finding paths between {top_drug_name} and {top_disease_name}\")\n",
        "    \n",
        "    # Find all paths between them\n",
        "    drug_disease_paths = analyzer.find_drug_disease_paths(\n",
        "        drug_id=top_drug_id, \n",
        "        disease_id=top_disease_id,\n",
        "        max_paths=5\n",
        "    )\n",
        "    \n",
        "    # Display paths\n",
        "    print(f\"Found {len(drug_disease_paths)} paths\")\n",
        "    \n",
        "    for i, path in enumerate(drug_disease_paths):\n",
        "        print(f\"\\nPath {i+1}:\")\n",
        "        print(f\"Length: {path['length']}\")\n",
        "        print(f\"Path: {' -> '.join(path['path_names'])}\")\n",
        "        print(f\"Types: {' -> '.join(path['path_types'])}\")\n",
        "    \n",
        "    # Visualize the first path\n",
        "    if drug_disease_paths:\n",
        "        fig = visualizer.visualize_path(\n",
        "            drug_disease_paths[0],\n",
        "            save_path=\"top_drug_disease_path.png\"\n",
        "        )\n",
        "        plt.show()\n",
        "else:\n",
        "    print(\"No drugs or diseases with centrality data\")"
      ]
    },
    {
      "cell_type": "markdown",
      "metadata": {},
      "source": [
        "## 5. Common Neighbor Analysis\n",
        "\n",
        "Let's find drug-disease pairs that share common neighbors (potential indirect connections)."
      ]
    },
    {
      "cell_type": "code",
      "execution_count": null,
      "metadata": {},
      "outputs": [],
      "source": [
        "# Find drug-disease pairs with common neighbors\n",
        "common_neighbors = analyzer.find_common_neighbors(\n",
        "    node_type_a=\"drug\", \n",
        "    node_type_b=\"disease\",\n",
        "    min_neighbors=2,  # At least 2 common neighbors\n",
        "    max_results=20\n",
        ")\n",
        "\n",
        "# Display results\n",
        "print(f\"Found {len(common_neighbors)} drug-disease pairs with at least 2 common neighbors\")\n",
        "\n",
        "# Create a table of results\n",
        "neighbor_data = []\n",
        "for result in common_neighbors:\n",
        "    neighbor_data.append({\n",
        "        \"Drug\": result[\"node_a_name\"],\n",
        "        \"Disease\": result[\"node_b_name\"],\n",
        "        \"Common Neighbors\": result[\"common_neighbors_count\"],\n",
        "        \"Neighbor Names\": \", \".join([n[\"name\"] for n in result[\"common_neighbors\"][:3]]) + \n",
        "                          (\"...\" if len(result[\"common_neighbors\"]) > 3 else \"\")\n",
        "    })\n",
        "\n",
        "neighbor_df = pd.DataFrame(neighbor_data)\n",
        "display(neighbor_df)"
      ]
    },
    {
      "cell_type": "markdown",
      "metadata": {},
      "source": [
        "## 6. Network Visualization\n",
        "\n",
        "Let's visualize parts of our knowledge graph."
      ]
    },
    {
      "cell_type": "markdown",
      "metadata": {},
      "source": [
        "### Visualize a Drug-Protein-Disease Subgraph"
      ]
    },
    {
      "cell_type": "code",
      "execution_count": null,
      "metadata": {},
      "outputs": [],
      "source": [
        "# Extract a subgraph with drugs, proteins, and diseases\n",
        "subgraph = analyzer.extract_subgraph(\n",
        "    node_types=[\"drug\", \"protein\", \"disease\"],\n",
        "    edge_types=[\"targets\", \"associated_with\", \"treats\"],\n",
        "    max_nodes=50\n",
        ")\n",
        "\n",
        "print(f\"Extracted subgraph with {subgraph.number_of_nodes()} nodes and {subgraph.number_of_edges()} edges\")\n",
        "\n",
        "# Visualize the subgraph\n",
        "fig = visualizer.visualize_graph(\n",
        "    subgraph,\n",
        "    node_color_attribute=\"type\",\n",
        "    node_size_attribute=\"degree\",\n",
        "    edge_color_attribute=\"type\",\n",
        "    layout=\"spring\",\n",
        "    title=\"Drug-Protein-Disease Subgraph\",\n",
        "    save_path=\"drug_protein_disease_subgraph.png\"\n",
        ")\n",
        "plt.show()"
      ]
    },
    {
      "cell_type": "markdown",
      "metadata": {},
      "source": [
        "### Visualize a Specific Drug's Neighborhood"
      ]
    },
    {
      "cell_type": "code",
      "execution_count": null,
      "metadata": {},
      "outputs": [],
      "source": [
        "# Get the neighborhood of the top drug\n",
        "if len(drug_cent) > 0:\n",
        "    top_drug_id = drug_cent.iloc[0][\"node_id\"]\n",
        "    top_drug_name = drug_cent.iloc[0][\"name\"]\n",
        "    \n",
        "    # Get 1-hop neighborhood\n",
        "    hood = analyzer.get_entity_neighborhood(entity_id=top_drug_id, hops=1)\n",
        "    print(f\"1-hop neighborhood of {top_drug_name} has {hood.number_of_nodes()} nodes and {hood.number_of_edges()} edges\")\n",
        "    \n",
        "    # Visualize\n",
        "    fig = visualizer.visualize_graph(\n",
        "        hood,\n",
        "        node_color_attribute=\"type\",\n",
        "        node_size_attribute=\"degree\",\n",
        "        edge_color_attribute=\"type\",\n",
        "        layout=\"spring\",\n",
        "        title=f\"1-hop Neighborhood of {top_drug_name}\",\n",
        "        save_path=\"top_drug_neighborhood.png\"\n",
        "    )\n",
        "    plt.show()\n",
        "    \n",
        "    # Get 2-hop neighborhood if 1-hop is small\n",
        "    if hood.number_of_nodes() < 30:\n",
        "        hood2 = analyzer.get_entity_neighborhood(entity_id=top_drug_id, hops=2, max_nodes=50)\n",
        "        print(f\"2-hop neighborhood of {top_drug_name} has {hood2.number_of_nodes()} nodes and {hood2.number_of_edges()} edges\")\n",
        "        \n",
        "        # Visualize\n",
        "        fig = visualizer.visualize_graph(\n",
        "            hood2,\n",
        "            node_color_attribute=\"type\",\n",
        "            node_size_attribute=\"degree\",\n",
        "            edge_color_attribute=\"type\",\n",
        "            layout=\"spring\",\n",
        "            title=f\"2-hop Neighborhood of {top_drug_name}\",\n",
        "            save_path=\"top_drug_neighborhood_2hop.png\"\n",
        "        )\n",
        "        plt.show()\n",
        "else:\n",
        "    print(\"No drugs with centrality data\")"
      ]
    },
    {
      "cell_type": "markdown",
      "metadata": {},
      "source": [
        "## 7. Drug Repurposing Candidates\n",
        "\n",
        "Let's explore potential drug repurposing candidates by looking at drugs and diseases that are not directly connected but share similar network patterns."
      ]
    },
    {
      "cell_type": "code",
      "execution_count": null,
      "metadata": {},
      "outputs": [],
      "source": [
        "# Function to find potential drug repurposing candidates\n",
        "def find_repurposing_candidates(analyzer, top_n=20):\n",
        "    # Get all drugs and diseases\n",
        "    drugs = [n for n, d in analyzer.graph.nodes(data=True) if d.get(\"type\") == \"drug\"]\n",
        "    diseases = [n for n, d in analyzer.graph.nodes(data=True) if d.get(\"type\") == \"disease\"]\n",
        "    \n",
        "    # Find pairs with common neighbors but no direct connection\n",
        "    candidates = []\n",
        "    \n",
        "    # Get common neighbors\n",
        "    common_neighbors = analyzer.find_common_neighbors(\n",
        "        node_type_a=\"drug\", \n",
        "        node_type_b=\"disease\",\n",
        "        min_neighbors=2\n",
        "    )\n",
        "    \n",
        "    # Filter to keep only pairs without direct connection\n",
        "    for result in common_neighbors:\n",
        "        drug_id = result[\"node_a_id\"]\n",
        "        disease_id = result[\"node_b_id\"]\n",
        "        \n",
        "        # Check if there's a direct edge\n",
        "        if not analyzer.graph.has_edge(drug_id, disease_id):\n",
        "            # Calculate a score based on common neighbors\n",
        "            score = result[\"common_neighbors_count\"]\n",
        "            \n",
        "            # Enhance score based on common neighbor types\n",
        "            protein_neighbors = sum(1 for n in result[\"common_neighbors\"] if n[\"type\"] == \"protein\")\n",
        "            score += protein_neighbors * 0.5  # Give extra weight to protein neighbors\n",
        "            \n",
        "            candidates.append({\n",
        "                \"drug_id\": drug_id,\n",
        "                \"drug_name\": result[\"node_a_name\"],\n",
        "                \"disease_id\": disease_id,\n",
        "                \"disease_name\": result[\"node_b_name\"],\n",
        "                \"common_neighbors\": result[\"common_neighbors_count\"],\n",
        "                \"protein_neighbors\": protein_neighbors,\n",
        "                \"repurposing_score\": score,\n",
        "                \"common_neighbor_names\": [n[\"name\"] for n in result[\"common_neighbors\"]]\n",
        "            })\n",
        "    \n",
        "    # Sort by score\n",
        "    candidates.sort(key=lambda x: x[\"repurposing_score\"], reverse=True)\n",
        "    \n",
        "    # Return top N\n",
        "    return candidates[:top_n] if top_n else candidates"
      ]
    },
    {
      "cell_type": "code",
      "execution_count": null,
      "metadata": {},
      "outputs": [],
      "source": [
        "# Find repurposing candidates\n",
        "candidates = find_repurposing_candidates(analyzer, top_n=20)\n",
        "\n",
        "# Display candidates\n",
        "print(f\"Found {len(candidates)} potential drug repurposing candidates\")\n",
        "\n",
        "# Create a table\n",
        "candidate_data = []\n",
        "for cand in candidates:\n",
        "    candidate_data.append({\n",
        "        \"Drug\": cand[\"drug_name\"],\n",
        "        \"Disease\": cand[\"disease_name\"],\n",
        "        \"Repurposing Score\": round(cand[\"repurposing_score\"], 2),\n",
        "        \"Common Neighbors\": cand[\"common_neighbors\"],\n",
        "        \"Protein Neighbors\": cand[\"protein_neighbors\"],\n",
        "        \"Common Neighbor Examples\": \", \".join(cand[\"common_neighbor_names\"][:3]) + \n",
        "                                  (\"...\" if len(cand[\"common_neighbor_names\"]) > 3 else \"\")\n",
        "    })\n",
        "\n",
        "candidate_df = pd.DataFrame(candidate_data)\n",
        "display(candidate_df)"
      ]
    },
    {
      "cell_type": "markdown",
      "metadata": {},
      "source": [
        "Let's visualize the network of one of the top repurposing candidates to understand the common neighbors and indirect connections."
      ]
    },
    {
      "cell_type": "code",
      "execution_count": null,
      "metadata": {},
      "outputs": [],
      "source": [
        "# Visualize a top repurposing candidate\n",
        "if candidates:\n",
        "    top_candidate = candidates[0]\n",
        "    drug_id = top_candidate[\"drug_id\"]\n",
        "    disease_id = top_candidate[\"disease_id\"]\n",
        "    \n",
        "    print(f\"Visualizing network for {top_candidate['drug_name']} and {top_candidate['disease_name']}\")\n",
        "    print(f\"Common neighbors: {top_candidate['common_neighbors']}\")\n",
        "    print(f\"Common neighbor examples: {', '.join(top_candidate['common_neighbor_names'][:5])}\")\n",
        "    \n",
        "    # Create a subgraph with the drug, disease, and their common neighbors\n",
        "    nodes = [drug_id, disease_id] + [n[\"id\"] for n in top_candidate[\"common_neighbor_names\"]]\n",
        "    subgraph = analyzer.graph.subgraph(nodes).copy()\n",
        "    \n",
        "    # If subgraph is small, add 1-hop neighbors\n",
        "    if subgraph.number_of_nodes() < 10:\n",
        "        hood1 = analyzer.get_entity_neighborhood(entity_id=drug_id, hops=1)\n",
        "        hood2 = analyzer.get_entity_neighborhood(entity_id=disease_id, hops=1)\n",
        "        \n",
        "        # Combine nodes\n",
        "        all_nodes = set(hood1.nodes()) | set(hood2.nodes())\n",
        "        subgraph = analyzer.graph.subgraph(all_nodes).copy()\n",
        "    \n",
        "    # Visualize\n",
        "    fig = visualizer.visualize_graph(\n",
        "        subgraph,\n",
        "        node_color_attribute=\"type\",\n",
        "        node_size_attribute=\"degree\",\n",
        "        layout=\"spring\",\n",
        "        title=f\"Network for Repurposing Candidate: {top_candidate['drug_name']} → {top_candidate['disease_name']}\",\n",
        "        save_path=\"top_repurposing_candidate_network.png\"\n",
        "    )\n",
        "    plt.show()\n",
        "else:\n",
        "    print(\"No repurposing candidates found\")"
      ]
    },
    {
      "cell_type": "markdown",
      "metadata": {},
      "source": [
        "## 8. Summary and Conclusions\n",
        "\n",
        "In this notebook, we've analyzed the structure of our knowledge graph and applied various graph analysis techniques to gain insights. Here's a summary of our findings:\n",
        "\n",
        "1. **Graph Statistics**: We examined the basic properties of the graph, including node and edge counts, degree distributions, and connectivity metrics.\n",
        "\n",
        "2. **Centrality Analysis**: We identified the most central nodes in the graph using different centrality measures, highlighting the most important drugs, diseases, and proteins.\n",
        "\n",
        "3. **Community Detection**: We detected communities in the graph, which can reveal groups of related entities and therapeutic areas.\n",
        "\n",
        "4. **Path Analysis**: We analyzed paths between drugs and diseases, which can help understand potential mechanisms of action.\n",
        "\n",
        "5. **Common Neighbor Analysis**: We found drug-disease pairs with common neighbors, which can suggest indirect relationships.\n",
        "\n",
        "6. **Network Visualization**: We visualized various subgraphs to better understand the relationships between entities.\n",
        "\n",
        "7. **Drug Repurposing Candidates**: We identified potential drug repurposing candidates based on network patterns.\n",
        "\n",
        "These analyses provide a foundation for the next phase of the project: feature engineering for our graph neural network model. By understanding the structure and properties of the knowledge graph, we can design more effective features and model architectures for drug-disease interaction prediction."
      ]
    },
    {
      "cell_type": "markdown",
      "metadata": {},
      "source": [
        "## Next Steps\n",
        "\n",
        "1. **Feature Engineering**: Use insights from graph analysis to design node and edge features for the graph neural network model.\n",
        "\n",
        "2. **Model Implementation**: Implement the graph neural network architecture as defined in the project plan.\n",
        "\n",
        "3. **Training & Evaluation**: Train the model on the knowledge graph and evaluate its performance.\n",
        "\n",
        "4. **Explainability**: Develop methods to explain model predictions using path and subgraph analysis.\n",
        "\n",
        "5. **API Development**: Create an API for making drug-disease interaction predictions."
      ]
    }
  ],
  "metadata": {
    "kernelspec": {
      "display_name": "ddi",
      "language": "python",
      "name": "python3"
    },
    "language_info": {
      "codemirror_mode": {
        "name": "ipython",
        "version": 3
      },
      "file_extension": ".py",
      "mimetype": "text/x-python",
      "name": "python",
      "nbconvert_exporter": "python",
      "pygments_lexer": "ipython3",
      "version": "3.12.9"
    }
  },
  "nbformat": 4,
  "nbformat_minor": 4
}
